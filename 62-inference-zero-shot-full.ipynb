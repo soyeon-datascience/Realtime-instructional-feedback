{
 "cells": [
  {
   "cell_type": "markdown",
   "metadata": {},
   "source": [
    "# 62-inference-zero-shot-full\n",
    "> Using built models for inference on the entire dataset\n",
    "\n",
    "In this notebook, we perform zero-shot classification on our transcripts.  Since at this point in our work, we have access to the full CSV file, we'll use it directly.  Note that for the time being, we **will remove 105-1 and 105-2 because the labels on these transcripts are being reviewed.**"
   ]
  },
  {
   "cell_type": "markdown",
   "metadata": {},
   "source": [
    "#### Common helpful packages"
   ]
  },
  {
   "cell_type": "code",
   "execution_count": null,
   "metadata": {},
   "outputs": [],
   "source": [
    "#all_no_test\n",
    "#Data analysis and processing\n",
    "import pandas as pd\n",
    "\n",
    "#ml and dl\n",
    "from transformers import pipeline\n",
    "from sklearn.metrics import confusion_matrix, classification_report\n",
    "\n",
    "#plotting\n",
    "import seaborn as sns\n",
    "\n",
    "# file system and python operations\n",
    "import os.path\n",
    "\n",
    "%matplotlib inline"
   ]
  },
  {
   "cell_type": "markdown",
   "metadata": {},
   "source": [
    "# Load data\n",
    "In this section, we're going to use directly load the full CSV of all of the data and use it directly.\n",
    "#### Filename constants"
   ]
  },
  {
   "cell_type": "code",
   "execution_count": null,
   "metadata": {},
   "outputs": [],
   "source": [
    "# Box prefix (uncomment and use the lower variable if the Box directory on your computer is called \"Box Sync\")\n",
    "box_prefix = '~/Box/DSI Documents/'\n",
    "#box_prefix = '~/Box Sync/DSI Documents/'\n",
    "\n",
    "# Data filepath\n",
    "csv_filepath = os.path.expanduser(box_prefix + 'cleaned_data/final_csv.csv')"
   ]
  },
  {
   "cell_type": "code",
   "execution_count": null,
   "metadata": {},
   "outputs": [
    {
     "data": {
      "text/html": [
       "<div>\n",
       "<style scoped>\n",
       "    .dataframe tbody tr th:only-of-type {\n",
       "        vertical-align: middle;\n",
       "    }\n",
       "\n",
       "    .dataframe tbody tr th {\n",
       "        vertical-align: top;\n",
       "    }\n",
       "\n",
       "    .dataframe thead th {\n",
       "        text-align: right;\n",
       "    }\n",
       "</style>\n",
       "<table border=\"1\" class=\"dataframe\">\n",
       "  <thead>\n",
       "    <tr style=\"text-align: right;\">\n",
       "      <th></th>\n",
       "      <th>id</th>\n",
       "      <th>transcript_filepath</th>\n",
       "      <th>wave_filename</th>\n",
       "      <th>speech</th>\n",
       "      <th>start_timestamp</th>\n",
       "      <th>end_timestamp</th>\n",
       "      <th>label</th>\n",
       "      <th>transcriber_id</th>\n",
       "    </tr>\n",
       "  </thead>\n",
       "  <tbody>\n",
       "    <tr>\n",
       "      <th>0</th>\n",
       "      <td>273-1</td>\n",
       "      <td>~/Box Sync/DSI Documents/cleaned_data/cleaned_...</td>\n",
       "      <td>~/Box Sync/DSI Documents/Audio Files &amp; Tanscri...</td>\n",
       "      <td>today we're talking about the moon.</td>\n",
       "      <td>00:00:00.00</td>\n",
       "      <td>00:01:39.18</td>\n",
       "      <td>NEU</td>\n",
       "      <td>198</td>\n",
       "    </tr>\n",
       "    <tr>\n",
       "      <th>1</th>\n",
       "      <td>273-1</td>\n",
       "      <td>~/Box Sync/DSI Documents/cleaned_data/cleaned_...</td>\n",
       "      <td>~/Box Sync/DSI Documents/Audio Files &amp; Tanscri...</td>\n",
       "      <td>so today&gt;</td>\n",
       "      <td>00:00:00.00</td>\n",
       "      <td>00:01:39.18</td>\n",
       "      <td>NEU</td>\n",
       "      <td>198</td>\n",
       "    </tr>\n",
       "    <tr>\n",
       "      <th>2</th>\n",
       "      <td>273-1</td>\n",
       "      <td>~/Box Sync/DSI Documents/cleaned_data/cleaned_...</td>\n",
       "      <td>~/Box Sync/DSI Documents/Audio Files &amp; Tanscri...</td>\n",
       "      <td>(fir*) ima see what all you know about the moo...</td>\n",
       "      <td>00:00:00.00</td>\n",
       "      <td>00:01:39.18</td>\n",
       "      <td>NEU</td>\n",
       "      <td>198</td>\n",
       "    </tr>\n",
       "    <tr>\n",
       "      <th>3</th>\n",
       "      <td>273-1</td>\n",
       "      <td>~/Box Sync/DSI Documents/cleaned_data/cleaned_...</td>\n",
       "      <td>~/Box Sync/DSI Documents/Audio Files &amp; Tanscri...</td>\n",
       "      <td>we're gonna read about it and find out more ab...</td>\n",
       "      <td>00:00:00.00</td>\n",
       "      <td>00:01:39.18</td>\n",
       "      <td>NEU</td>\n",
       "      <td>198</td>\n",
       "    </tr>\n",
       "    <tr>\n",
       "      <th>4</th>\n",
       "      <td>273-1</td>\n",
       "      <td>~/Box Sync/DSI Documents/cleaned_data/cleaned_...</td>\n",
       "      <td>~/Box Sync/DSI Documents/Audio Files &amp; Tanscri...</td>\n",
       "      <td>I'll find out what you know about the moon.</td>\n",
       "      <td>00:00:00.00</td>\n",
       "      <td>00:01:39.18</td>\n",
       "      <td>NEU</td>\n",
       "      <td>198</td>\n",
       "    </tr>\n",
       "  </tbody>\n",
       "</table>\n",
       "</div>"
      ],
      "text/plain": [
       "      id                                transcript_filepath  \\\n",
       "0  273-1  ~/Box Sync/DSI Documents/cleaned_data/cleaned_...   \n",
       "1  273-1  ~/Box Sync/DSI Documents/cleaned_data/cleaned_...   \n",
       "2  273-1  ~/Box Sync/DSI Documents/cleaned_data/cleaned_...   \n",
       "3  273-1  ~/Box Sync/DSI Documents/cleaned_data/cleaned_...   \n",
       "4  273-1  ~/Box Sync/DSI Documents/cleaned_data/cleaned_...   \n",
       "\n",
       "                                       wave_filename  \\\n",
       "0  ~/Box Sync/DSI Documents/Audio Files & Tanscri...   \n",
       "1  ~/Box Sync/DSI Documents/Audio Files & Tanscri...   \n",
       "2  ~/Box Sync/DSI Documents/Audio Files & Tanscri...   \n",
       "3  ~/Box Sync/DSI Documents/Audio Files & Tanscri...   \n",
       "4  ~/Box Sync/DSI Documents/Audio Files & Tanscri...   \n",
       "\n",
       "                                              speech start_timestamp  \\\n",
       "0                today we're talking about the moon.     00:00:00.00   \n",
       "1                                          so today>     00:00:00.00   \n",
       "2  (fir*) ima see what all you know about the moo...     00:00:00.00   \n",
       "3  we're gonna read about it and find out more ab...     00:00:00.00   \n",
       "4        I'll find out what you know about the moon.     00:00:00.00   \n",
       "\n",
       "  end_timestamp label  transcriber_id  \n",
       "0   00:01:39.18   NEU             198  \n",
       "1   00:01:39.18   NEU             198  \n",
       "2   00:01:39.18   NEU             198  \n",
       "3   00:01:39.18   NEU             198  \n",
       "4   00:01:39.18   NEU             198  "
      ]
     },
     "metadata": {},
     "output_type": "display_data"
    },
    {
     "name": "stdout",
     "output_type": "stream",
     "text": [
      "Dimensions of data: (14021, 8) \n",
      "\n",
      "<class 'pandas.core.frame.DataFrame'>\n",
      "RangeIndex: 14021 entries, 0 to 14020\n",
      "Data columns (total 8 columns):\n",
      " #   Column               Non-Null Count  Dtype \n",
      "---  ------               --------------  ----- \n",
      " 0   id                   14021 non-null  object\n",
      " 1   transcript_filepath  14021 non-null  object\n",
      " 2   wave_filename        14021 non-null  object\n",
      " 3   speech               14021 non-null  object\n",
      " 4   start_timestamp      14021 non-null  object\n",
      " 5   end_timestamp        14021 non-null  object\n",
      " 6   label                14021 non-null  object\n",
      " 7   transcriber_id       14021 non-null  int64 \n",
      "dtypes: int64(1), object(7)\n",
      "memory usage: 876.4+ KB\n"
     ]
    }
   ],
   "source": [
    "#read the csv\n",
    "transcript_df = pd.read_csv(csv_filepath)\n",
    "\n",
    "#show the first 5 rows\n",
    "display(transcript_df.head())\n",
    "\n",
    "#print size\n",
    "print('Dimensions of data:', transcript_df.shape, '\\n')\n",
    "\n",
    "#print count info\n",
    "transcript_df.info()"
   ]
  },
  {
   "cell_type": "markdown",
   "metadata": {},
   "source": [
    "Now, we're also going to remove transcripts 105-1 and 105-2 from the processing."
   ]
  },
  {
   "cell_type": "code",
   "execution_count": null,
   "metadata": {},
   "outputs": [],
   "source": [
    "transcript_df.query(\"id != '105-1' and id != '105-2'\", inplace=True)\n",
    "transcript_df = transcript_df.reset_index(drop=True)"
   ]
  },
  {
   "cell_type": "markdown",
   "metadata": {},
   "source": [
    "Let's just quickly check the behavior of this to get updated counts..."
   ]
  },
  {
   "cell_type": "code",
   "execution_count": null,
   "metadata": {},
   "outputs": [
    {
     "name": "stdout",
     "output_type": "stream",
     "text": [
      "This dataset represents a total of 28 teachers recorded...\n",
      "for a total of 79 transcripts...\n",
      "with a total of 13743 individual statements.\n"
     ]
    }
   ],
   "source": [
    "no_teachers = transcript_df['id'].apply(lambda x: x.split('-')[0]).nunique()\n",
    "no_transcripts = transcript_df['id'].nunique()\n",
    "no_statements = transcript_df.shape[0]\n",
    "\n",
    "print('This dataset represents a total of', no_teachers, \"teachers recorded...\")\n",
    "print('for a total of', no_transcripts, \"transcripts...\")\n",
    "print('with a total of', no_statements, \"individual statements.\")"
   ]
  },
  {
   "cell_type": "markdown",
   "metadata": {},
   "source": [
    "As you can see in the dataframe above, there are no NaN and everything is looking good.  However, we'll go ahead and add new `sample_id` column for simplicity in the future."
   ]
  },
  {
   "cell_type": "code",
   "execution_count": null,
   "metadata": {},
   "outputs": [
    {
     "data": {
      "text/html": [
       "<div>\n",
       "<style scoped>\n",
       "    .dataframe tbody tr th:only-of-type {\n",
       "        vertical-align: middle;\n",
       "    }\n",
       "\n",
       "    .dataframe tbody tr th {\n",
       "        vertical-align: top;\n",
       "    }\n",
       "\n",
       "    .dataframe thead th {\n",
       "        text-align: right;\n",
       "    }\n",
       "</style>\n",
       "<table border=\"1\" class=\"dataframe\">\n",
       "  <thead>\n",
       "    <tr style=\"text-align: right;\">\n",
       "      <th></th>\n",
       "      <th>sample_id</th>\n",
       "      <th>id</th>\n",
       "      <th>transcript_filepath</th>\n",
       "      <th>wave_filename</th>\n",
       "      <th>speech</th>\n",
       "      <th>start_timestamp</th>\n",
       "      <th>end_timestamp</th>\n",
       "      <th>label</th>\n",
       "      <th>transcriber_id</th>\n",
       "    </tr>\n",
       "  </thead>\n",
       "  <tbody>\n",
       "    <tr>\n",
       "      <th>13738</th>\n",
       "      <td>13738</td>\n",
       "      <td>264-2</td>\n",
       "      <td>~/Box Sync/DSI Documents/cleaned_data/cleaned_...</td>\n",
       "      <td>~/Box Sync/DSI Documents/Audio Files &amp; Tanscri...</td>\n",
       "      <td>and I went uhuh.</td>\n",
       "      <td>00:07:11.07</td>\n",
       "      <td>00:10:09.26</td>\n",
       "      <td>NEU</td>\n",
       "      <td>198</td>\n",
       "    </tr>\n",
       "    <tr>\n",
       "      <th>13739</th>\n",
       "      <td>13739</td>\n",
       "      <td>264-2</td>\n",
       "      <td>~/Box Sync/DSI Documents/cleaned_data/cleaned_...</td>\n",
       "      <td>~/Box Sync/DSI Documents/Audio Files &amp; Tanscri...</td>\n",
       "      <td>you know and I'm backstage.</td>\n",
       "      <td>00:07:11.07</td>\n",
       "      <td>00:10:09.26</td>\n",
       "      <td>NEU</td>\n",
       "      <td>198</td>\n",
       "    </tr>\n",
       "    <tr>\n",
       "      <th>13740</th>\n",
       "      <td>13740</td>\n",
       "      <td>264-2</td>\n",
       "      <td>~/Box Sync/DSI Documents/cleaned_data/cleaned_...</td>\n",
       "      <td>~/Box Sync/DSI Documents/Audio Files &amp; Tanscri...</td>\n",
       "      <td>you’re trying to get quiet when you're backsta...</td>\n",
       "      <td>00:07:11.07</td>\n",
       "      <td>00:10:09.26</td>\n",
       "      <td>NEU</td>\n",
       "      <td>198</td>\n",
       "    </tr>\n",
       "    <tr>\n",
       "      <th>13741</th>\n",
       "      <td>13741</td>\n",
       "      <td>264-2</td>\n",
       "      <td>~/Box Sync/DSI Documents/cleaned_data/cleaned_...</td>\n",
       "      <td>~/Box Sync/DSI Documents/Audio Files &amp; Tanscri...</td>\n",
       "      <td>and finally she goes maybe if we clap enough s...</td>\n",
       "      <td>00:07:11.07</td>\n",
       "      <td>00:10:09.26</td>\n",
       "      <td>NEU</td>\n",
       "      <td>198</td>\n",
       "    </tr>\n",
       "    <tr>\n",
       "      <th>13742</th>\n",
       "      <td>13742</td>\n",
       "      <td>264-2</td>\n",
       "      <td>~/Box Sync/DSI Documents/cleaned_data/cleaned_...</td>\n",
       "      <td>~/Box Sync/DSI Documents/Audio Files &amp; Tanscri...</td>\n",
       "      <td>and I walk out there and I thought if this wom...</td>\n",
       "      <td>00:07:11.07</td>\n",
       "      <td>00:10:09.26</td>\n",
       "      <td>NEU</td>\n",
       "      <td>198</td>\n",
       "    </tr>\n",
       "  </tbody>\n",
       "</table>\n",
       "</div>"
      ],
      "text/plain": [
       "       sample_id     id                                transcript_filepath  \\\n",
       "13738      13738  264-2  ~/Box Sync/DSI Documents/cleaned_data/cleaned_...   \n",
       "13739      13739  264-2  ~/Box Sync/DSI Documents/cleaned_data/cleaned_...   \n",
       "13740      13740  264-2  ~/Box Sync/DSI Documents/cleaned_data/cleaned_...   \n",
       "13741      13741  264-2  ~/Box Sync/DSI Documents/cleaned_data/cleaned_...   \n",
       "13742      13742  264-2  ~/Box Sync/DSI Documents/cleaned_data/cleaned_...   \n",
       "\n",
       "                                           wave_filename  \\\n",
       "13738  ~/Box Sync/DSI Documents/Audio Files & Tanscri...   \n",
       "13739  ~/Box Sync/DSI Documents/Audio Files & Tanscri...   \n",
       "13740  ~/Box Sync/DSI Documents/Audio Files & Tanscri...   \n",
       "13741  ~/Box Sync/DSI Documents/Audio Files & Tanscri...   \n",
       "13742  ~/Box Sync/DSI Documents/Audio Files & Tanscri...   \n",
       "\n",
       "                                                  speech start_timestamp  \\\n",
       "13738                                   and I went uhuh.     00:07:11.07   \n",
       "13739                        you know and I'm backstage.     00:07:11.07   \n",
       "13740  you’re trying to get quiet when you're backsta...     00:07:11.07   \n",
       "13741  and finally she goes maybe if we clap enough s...     00:07:11.07   \n",
       "13742  and I walk out there and I thought if this wom...     00:07:11.07   \n",
       "\n",
       "      end_timestamp label  transcriber_id  \n",
       "13738   00:10:09.26   NEU             198  \n",
       "13739   00:10:09.26   NEU             198  \n",
       "13740   00:10:09.26   NEU             198  \n",
       "13741   00:10:09.26   NEU             198  \n",
       "13742   00:10:09.26   NEU             198  "
      ]
     },
     "execution_count": null,
     "metadata": {},
     "output_type": "execute_result"
    }
   ],
   "source": [
    "# Add a column named sample_id with the reset_index trick\n",
    "transcript_df = transcript_df.reset_index().rename(columns={'index':'sample_id'})\n",
    "transcript_df.tail()"
   ]
  },
  {
   "cell_type": "markdown",
   "metadata": {},
   "source": [
    "Great."
   ]
  },
  {
   "cell_type": "markdown",
   "metadata": {},
   "source": [
    "# Zero-shot classification\n",
    "Now, we're going to actually perform the zero-shot classification using the text from above.  We'll first declare some parameters and create the zero-shot pipeline for easy modification of the labels and model type."
   ]
  },
  {
   "cell_type": "code",
   "execution_count": null,
   "metadata": {},
   "outputs": [
    {
     "name": "stderr",
     "output_type": "stream",
     "text": [
      "No model was supplied, defaulted to facebook/bart-large-mnli (https://huggingface.co/facebook/bart-large-mnli)\n"
     ]
    }
   ],
   "source": [
    "# these are the labels that were added to the transcripts (don't change these or the order)\n",
    "transcript_labels = ['PRS', 'REP', 'NEU', 'OTR']\n",
    "\n",
    "# define list of candidate labels (change these, but not the order)\n",
    "candidate_labels = [\"positive feedback\", \"negative feedback\", \"neutral\", \"opportunity to respond\"]\n",
    "\n",
    "# define and create pipeline\n",
    "classifier = pipeline(\"zero-shot-classification\", model='facebook/bart-large-mnli', device=0)"
   ]
  },
  {
   "cell_type": "markdown",
   "metadata": {},
   "source": [
    "Now, we're going to build a dictionary of correspondences using the labels above (which is why we don't change the order).  If you do change the order, just know that the position in one set of labels must have its match at the same position in the other labels.  See below.\n",
    "\n",
    "We'll use this later to match between our names for the labels (`candidate_labels`) and the transcript labels (`transcript_labels`)."
   ]
  },
  {
   "cell_type": "code",
   "execution_count": null,
   "metadata": {},
   "outputs": [
    {
     "data": {
      "text/plain": [
       "{'positive feedback': 'PRS',\n",
       " 'negative feedback': 'REP',\n",
       " 'neutral': 'NEU',\n",
       " 'opportunity to respond': 'OTR'}"
      ]
     },
     "execution_count": null,
     "metadata": {},
     "output_type": "execute_result"
    }
   ],
   "source": [
    "labels_lookup = dict(zip(candidate_labels, transcript_labels))\n",
    "labels_lookup"
   ]
  },
  {
   "cell_type": "code",
   "execution_count": null,
   "metadata": {},
   "outputs": [
    {
     "data": {
      "text/plain": [
       "{'PRS': 'positive feedback',\n",
       " 'REP': 'negative feedback',\n",
       " 'NEU': 'neutral',\n",
       " 'OTR': 'opportunity to respond'}"
      ]
     },
     "execution_count": null,
     "metadata": {},
     "output_type": "execute_result"
    }
   ],
   "source": [
    "rev_labels_lookup = dict(zip(transcript_labels, candidate_labels))\n",
    "rev_labels_lookup"
   ]
  },
  {
   "cell_type": "markdown",
   "metadata": {},
   "source": [
    "## Make predictions on all transcripts\n",
    "Now, we'll then use the `speech` column of `transcript_df` to provide inputs to the classifier individually.  Note that we switch from batch here because using the entire batch in one fell swoop requires too much memory for a single GPU resource."
   ]
  },
  {
   "cell_type": "code",
   "execution_count": null,
   "metadata": {},
   "outputs": [],
   "source": [
    "# Get all the rows of text in the speech column, and convert the data structure into a list.  Use this as the sequences (text) argument to the classifier\n",
    "# Use the candidate_labels variable we defined above, and use that as the candidate_labels ARGUMENT to the classifier\n",
    "def get_transformer_classifications(mdl, text_list, label_list):\n",
    "\n",
    "    #get results in list form\n",
    "    res = mdl(sequences = text_list,\n",
    "              candidate_labels = label_list)\n",
    "\n",
    "    return res"
   ]
  },
  {
   "cell_type": "code",
   "execution_count": null,
   "metadata": {},
   "outputs": [],
   "source": [
    "results_list = [get_transformer_classifications(classifier, text, candidate_labels) for text in transcript_df['speech'].tolist()]"
   ]
  },
  {
   "cell_type": "markdown",
   "metadata": {},
   "source": [
    "## Convert to a reasonable representation\n",
    "The results returned are a list of dictionaries.  Each dictionary contains the sequence, the labels, and the probabilities associated with each label.  This will be shown below.  Dictionaries are easily converted to pandas dataframes, where each key becomes a column of the new dataframe.  In the same way, lists of dictionaries are also easily converted to pandas dataframes."
   ]
  },
  {
   "cell_type": "code",
   "execution_count": null,
   "metadata": {},
   "outputs": [
    {
     "data": {
      "text/plain": [
       "13743"
      ]
     },
     "execution_count": null,
     "metadata": {},
     "output_type": "execute_result"
    }
   ],
   "source": [
    "#make sure it is the right size\n",
    "len(results_list) #passed"
   ]
  },
  {
   "cell_type": "code",
   "execution_count": null,
   "metadata": {},
   "outputs": [
    {
     "data": {
      "text/plain": [
       "[{'sequence': \"today we're talking about the moon.\",\n",
       "  'labels': ['opportunity to respond',\n",
       "   'positive feedback',\n",
       "   'neutral',\n",
       "   'negative feedback'],\n",
       "  'scores': [0.5531594157218933,\n",
       "   0.2243356555700302,\n",
       "   0.12207228690385818,\n",
       "   0.10043270140886307]},\n",
       " {'sequence': 'so today>',\n",
       "  'labels': ['opportunity to respond',\n",
       "   'positive feedback',\n",
       "   'negative feedback',\n",
       "   'neutral'],\n",
       "  'scores': [0.42565831542015076,\n",
       "   0.3490981161594391,\n",
       "   0.12651561200618744,\n",
       "   0.09872791171073914]}]"
      ]
     },
     "execution_count": null,
     "metadata": {},
     "output_type": "execute_result"
    }
   ],
   "source": [
    "#look at the first 2 elements of results_list\n",
    "results_list[:2]"
   ]
  },
  {
   "cell_type": "code",
   "execution_count": null,
   "metadata": {},
   "outputs": [
    {
     "data": {
      "text/html": [
       "<div>\n",
       "<style scoped>\n",
       "    .dataframe tbody tr th:only-of-type {\n",
       "        vertical-align: middle;\n",
       "    }\n",
       "\n",
       "    .dataframe tbody tr th {\n",
       "        vertical-align: top;\n",
       "    }\n",
       "\n",
       "    .dataframe thead th {\n",
       "        text-align: right;\n",
       "    }\n",
       "</style>\n",
       "<table border=\"1\" class=\"dataframe\">\n",
       "  <thead>\n",
       "    <tr style=\"text-align: right;\">\n",
       "      <th></th>\n",
       "      <th>sequence</th>\n",
       "      <th>labels</th>\n",
       "      <th>scores</th>\n",
       "    </tr>\n",
       "  </thead>\n",
       "  <tbody>\n",
       "    <tr>\n",
       "      <th>0</th>\n",
       "      <td>today we're talking about the moon.</td>\n",
       "      <td>opportunity to respond</td>\n",
       "      <td>0.553159</td>\n",
       "    </tr>\n",
       "    <tr>\n",
       "      <th>1</th>\n",
       "      <td>today we're talking about the moon.</td>\n",
       "      <td>positive feedback</td>\n",
       "      <td>0.224336</td>\n",
       "    </tr>\n",
       "    <tr>\n",
       "      <th>2</th>\n",
       "      <td>today we're talking about the moon.</td>\n",
       "      <td>neutral</td>\n",
       "      <td>0.122072</td>\n",
       "    </tr>\n",
       "    <tr>\n",
       "      <th>3</th>\n",
       "      <td>today we're talking about the moon.</td>\n",
       "      <td>negative feedback</td>\n",
       "      <td>0.100433</td>\n",
       "    </tr>\n",
       "  </tbody>\n",
       "</table>\n",
       "</div>"
      ],
      "text/plain": [
       "                              sequence                  labels    scores\n",
       "0  today we're talking about the moon.  opportunity to respond  0.553159\n",
       "1  today we're talking about the moon.       positive feedback  0.224336\n",
       "2  today we're talking about the moon.                 neutral  0.122072\n",
       "3  today we're talking about the moon.       negative feedback  0.100433"
      ]
     },
     "execution_count": null,
     "metadata": {},
     "output_type": "execute_result"
    }
   ],
   "source": [
    "#example of converting a single element of this list to a dataframe\n",
    "pd.DataFrame(results_list[0])"
   ]
  },
  {
   "cell_type": "code",
   "execution_count": null,
   "metadata": {},
   "outputs": [
    {
     "data": {
      "text/html": [
       "<div>\n",
       "<style scoped>\n",
       "    .dataframe tbody tr th:only-of-type {\n",
       "        vertical-align: middle;\n",
       "    }\n",
       "\n",
       "    .dataframe tbody tr th {\n",
       "        vertical-align: top;\n",
       "    }\n",
       "\n",
       "    .dataframe thead th {\n",
       "        text-align: right;\n",
       "    }\n",
       "</style>\n",
       "<table border=\"1\" class=\"dataframe\">\n",
       "  <thead>\n",
       "    <tr style=\"text-align: right;\">\n",
       "      <th></th>\n",
       "      <th>sequence</th>\n",
       "      <th>labels</th>\n",
       "      <th>scores</th>\n",
       "      <th>sample_id</th>\n",
       "    </tr>\n",
       "  </thead>\n",
       "  <tbody>\n",
       "    <tr>\n",
       "      <th>0</th>\n",
       "      <td>today we're talking about the moon.</td>\n",
       "      <td>opportunity to respond</td>\n",
       "      <td>0.553159</td>\n",
       "      <td>0</td>\n",
       "    </tr>\n",
       "    <tr>\n",
       "      <th>1</th>\n",
       "      <td>today we're talking about the moon.</td>\n",
       "      <td>positive feedback</td>\n",
       "      <td>0.224336</td>\n",
       "      <td>0</td>\n",
       "    </tr>\n",
       "    <tr>\n",
       "      <th>2</th>\n",
       "      <td>today we're talking about the moon.</td>\n",
       "      <td>neutral</td>\n",
       "      <td>0.122072</td>\n",
       "      <td>0</td>\n",
       "    </tr>\n",
       "    <tr>\n",
       "      <th>3</th>\n",
       "      <td>today we're talking about the moon.</td>\n",
       "      <td>negative feedback</td>\n",
       "      <td>0.100433</td>\n",
       "      <td>0</td>\n",
       "    </tr>\n",
       "    <tr>\n",
       "      <th>0</th>\n",
       "      <td>so today&gt;</td>\n",
       "      <td>opportunity to respond</td>\n",
       "      <td>0.425658</td>\n",
       "      <td>1</td>\n",
       "    </tr>\n",
       "  </tbody>\n",
       "</table>\n",
       "</div>"
      ],
      "text/plain": [
       "                              sequence                  labels    scores  \\\n",
       "0  today we're talking about the moon.  opportunity to respond  0.553159   \n",
       "1  today we're talking about the moon.       positive feedback  0.224336   \n",
       "2  today we're talking about the moon.                 neutral  0.122072   \n",
       "3  today we're talking about the moon.       negative feedback  0.100433   \n",
       "0                            so today>  opportunity to respond  0.425658   \n",
       "\n",
       "   sample_id  \n",
       "0          0  \n",
       "1          0  \n",
       "2          0  \n",
       "3          0  \n",
       "0          1  "
      ]
     },
     "execution_count": null,
     "metadata": {},
     "output_type": "execute_result"
    }
   ],
   "source": [
    "#use a list comprehension to generate a list of these dataframes\n",
    "results_df_list = [pd.DataFrame(result) for result in results_list]\n",
    "\n",
    "#add the sample_id column for each dataframe\n",
    "results_df_list = [df.assign(sample_id = ind) for ind, df in enumerate(results_df_list)]\n",
    "\n",
    "#concatenate this list together to form one single dataframe\n",
    "results_df = pd.concat(results_df_list)\n",
    "results_df.head()"
   ]
  },
  {
   "cell_type": "code",
   "execution_count": null,
   "metadata": {},
   "outputs": [
    {
     "data": {
      "text/html": [
       "<div>\n",
       "<style scoped>\n",
       "    .dataframe tbody tr th:only-of-type {\n",
       "        vertical-align: middle;\n",
       "    }\n",
       "\n",
       "    .dataframe tbody tr th {\n",
       "        vertical-align: top;\n",
       "    }\n",
       "\n",
       "    .dataframe thead th {\n",
       "        text-align: right;\n",
       "    }\n",
       "</style>\n",
       "<table border=\"1\" class=\"dataframe\">\n",
       "  <thead>\n",
       "    <tr style=\"text-align: right;\">\n",
       "      <th>labels</th>\n",
       "      <th>sequence</th>\n",
       "      <th>negative feedback</th>\n",
       "      <th>neutral</th>\n",
       "      <th>opportunity to respond</th>\n",
       "      <th>positive feedback</th>\n",
       "    </tr>\n",
       "    <tr>\n",
       "      <th>sample_id</th>\n",
       "      <th></th>\n",
       "      <th></th>\n",
       "      <th></th>\n",
       "      <th></th>\n",
       "      <th></th>\n",
       "    </tr>\n",
       "  </thead>\n",
       "  <tbody>\n",
       "    <tr>\n",
       "      <th>0</th>\n",
       "      <td>today we're talking about the moon.</td>\n",
       "      <td>0.100433</td>\n",
       "      <td>0.122072</td>\n",
       "      <td>0.553159</td>\n",
       "      <td>0.224336</td>\n",
       "    </tr>\n",
       "    <tr>\n",
       "      <th>1</th>\n",
       "      <td>so today&gt;</td>\n",
       "      <td>0.126516</td>\n",
       "      <td>0.098728</td>\n",
       "      <td>0.425658</td>\n",
       "      <td>0.349098</td>\n",
       "    </tr>\n",
       "    <tr>\n",
       "      <th>2</th>\n",
       "      <td>(fir*) ima see what all you know about the moo...</td>\n",
       "      <td>0.334217</td>\n",
       "      <td>0.012606</td>\n",
       "      <td>0.437235</td>\n",
       "      <td>0.215942</td>\n",
       "    </tr>\n",
       "    <tr>\n",
       "      <th>3</th>\n",
       "      <td>we're gonna read about it and find out more ab...</td>\n",
       "      <td>0.049091</td>\n",
       "      <td>0.038513</td>\n",
       "      <td>0.830524</td>\n",
       "      <td>0.081872</td>\n",
       "    </tr>\n",
       "    <tr>\n",
       "      <th>4</th>\n",
       "      <td>I'll find out what you know about the moon.</td>\n",
       "      <td>0.059459</td>\n",
       "      <td>0.009332</td>\n",
       "      <td>0.859977</td>\n",
       "      <td>0.071232</td>\n",
       "    </tr>\n",
       "    <tr>\n",
       "      <th>...</th>\n",
       "      <td>...</td>\n",
       "      <td>...</td>\n",
       "      <td>...</td>\n",
       "      <td>...</td>\n",
       "      <td>...</td>\n",
       "    </tr>\n",
       "    <tr>\n",
       "      <th>13738</th>\n",
       "      <td>and I went uhuh.</td>\n",
       "      <td>0.138080</td>\n",
       "      <td>0.114503</td>\n",
       "      <td>0.613215</td>\n",
       "      <td>0.134202</td>\n",
       "    </tr>\n",
       "    <tr>\n",
       "      <th>13739</th>\n",
       "      <td>you know and I'm backstage.</td>\n",
       "      <td>0.082442</td>\n",
       "      <td>0.165741</td>\n",
       "      <td>0.605146</td>\n",
       "      <td>0.146671</td>\n",
       "    </tr>\n",
       "    <tr>\n",
       "      <th>13740</th>\n",
       "      <td>you’re trying to get quiet when you're backsta...</td>\n",
       "      <td>0.387192</td>\n",
       "      <td>0.027559</td>\n",
       "      <td>0.564811</td>\n",
       "      <td>0.020438</td>\n",
       "    </tr>\n",
       "    <tr>\n",
       "      <th>13741</th>\n",
       "      <td>and finally she goes maybe if we clap enough s...</td>\n",
       "      <td>0.120840</td>\n",
       "      <td>0.011013</td>\n",
       "      <td>0.558786</td>\n",
       "      <td>0.309361</td>\n",
       "    </tr>\n",
       "    <tr>\n",
       "      <th>13742</th>\n",
       "      <td>and I walk out there and I thought if this wom...</td>\n",
       "      <td>0.756601</td>\n",
       "      <td>0.018587</td>\n",
       "      <td>0.218187</td>\n",
       "      <td>0.006625</td>\n",
       "    </tr>\n",
       "  </tbody>\n",
       "</table>\n",
       "<p>13743 rows × 5 columns</p>\n",
       "</div>"
      ],
      "text/plain": [
       "labels                                              sequence  \\\n",
       "sample_id                                                      \n",
       "0                        today we're talking about the moon.   \n",
       "1                                                  so today>   \n",
       "2          (fir*) ima see what all you know about the moo...   \n",
       "3          we're gonna read about it and find out more ab...   \n",
       "4                I'll find out what you know about the moon.   \n",
       "...                                                      ...   \n",
       "13738                                       and I went uhuh.   \n",
       "13739                            you know and I'm backstage.   \n",
       "13740      you’re trying to get quiet when you're backsta...   \n",
       "13741      and finally she goes maybe if we clap enough s...   \n",
       "13742      and I walk out there and I thought if this wom...   \n",
       "\n",
       "labels     negative feedback   neutral  opportunity to respond  \\\n",
       "sample_id                                                        \n",
       "0                   0.100433  0.122072                0.553159   \n",
       "1                   0.126516  0.098728                0.425658   \n",
       "2                   0.334217  0.012606                0.437235   \n",
       "3                   0.049091  0.038513                0.830524   \n",
       "4                   0.059459  0.009332                0.859977   \n",
       "...                      ...       ...                     ...   \n",
       "13738               0.138080  0.114503                0.613215   \n",
       "13739               0.082442  0.165741                0.605146   \n",
       "13740               0.387192  0.027559                0.564811   \n",
       "13741               0.120840  0.011013                0.558786   \n",
       "13742               0.756601  0.018587                0.218187   \n",
       "\n",
       "labels     positive feedback  \n",
       "sample_id                     \n",
       "0                   0.224336  \n",
       "1                   0.349098  \n",
       "2                   0.215942  \n",
       "3                   0.081872  \n",
       "4                   0.071232  \n",
       "...                      ...  \n",
       "13738               0.134202  \n",
       "13739               0.146671  \n",
       "13740               0.020438  \n",
       "13741               0.309361  \n",
       "13742               0.006625  \n",
       "\n",
       "[13743 rows x 5 columns]"
      ]
     },
     "execution_count": null,
     "metadata": {},
     "output_type": "execute_result"
    }
   ],
   "source": [
    "#pivot_wider and take `sequence` off the index\n",
    "results_df = results_df.pivot(index=['sample_id', 'sequence'], columns='labels', values='scores').reset_index(level='sequence')\n",
    "results_df"
   ]
  },
  {
   "cell_type": "code",
   "execution_count": null,
   "metadata": {},
   "outputs": [],
   "source": [
    "#get the max of the labels columns (using candidate_labels) and add a column called 'pred_zslabels'\n",
    "results_df['pred_zslabels'] = results_df[candidate_labels].idxmax(axis=1)\n",
    "\n",
    "#now we'll use the lookup dictionary we made above to create the pred column to correspond to the real labels\n",
    "results_df['pred'] = results_df['pred_zslabels'].replace(labels_lookup)"
   ]
  },
  {
   "cell_type": "code",
   "execution_count": null,
   "metadata": {},
   "outputs": [
    {
     "data": {
      "text/html": [
       "<div>\n",
       "<style scoped>\n",
       "    .dataframe tbody tr th:only-of-type {\n",
       "        vertical-align: middle;\n",
       "    }\n",
       "\n",
       "    .dataframe tbody tr th {\n",
       "        vertical-align: top;\n",
       "    }\n",
       "\n",
       "    .dataframe thead th {\n",
       "        text-align: right;\n",
       "    }\n",
       "</style>\n",
       "<table border=\"1\" class=\"dataframe\">\n",
       "  <thead>\n",
       "    <tr style=\"text-align: right;\">\n",
       "      <th></th>\n",
       "      <th>sequence</th>\n",
       "      <th>negative feedback</th>\n",
       "      <th>neutral</th>\n",
       "      <th>opportunity to respond</th>\n",
       "      <th>positive feedback</th>\n",
       "      <th>pred_zslabels</th>\n",
       "      <th>pred</th>\n",
       "      <th>sample_id</th>\n",
       "      <th>truth</th>\n",
       "      <th>speech</th>\n",
       "    </tr>\n",
       "  </thead>\n",
       "  <tbody>\n",
       "    <tr>\n",
       "      <th>0</th>\n",
       "      <td>today we're talking about the moon.</td>\n",
       "      <td>0.100433</td>\n",
       "      <td>0.122072</td>\n",
       "      <td>0.553159</td>\n",
       "      <td>0.224336</td>\n",
       "      <td>opportunity to respond</td>\n",
       "      <td>OTR</td>\n",
       "      <td>0</td>\n",
       "      <td>NEU</td>\n",
       "      <td>today we're talking about the moon.</td>\n",
       "    </tr>\n",
       "    <tr>\n",
       "      <th>1</th>\n",
       "      <td>so today&gt;</td>\n",
       "      <td>0.126516</td>\n",
       "      <td>0.098728</td>\n",
       "      <td>0.425658</td>\n",
       "      <td>0.349098</td>\n",
       "      <td>opportunity to respond</td>\n",
       "      <td>OTR</td>\n",
       "      <td>1</td>\n",
       "      <td>NEU</td>\n",
       "      <td>so today&gt;</td>\n",
       "    </tr>\n",
       "    <tr>\n",
       "      <th>2</th>\n",
       "      <td>(fir*) ima see what all you know about the moo...</td>\n",
       "      <td>0.334217</td>\n",
       "      <td>0.012606</td>\n",
       "      <td>0.437235</td>\n",
       "      <td>0.215942</td>\n",
       "      <td>opportunity to respond</td>\n",
       "      <td>OTR</td>\n",
       "      <td>2</td>\n",
       "      <td>NEU</td>\n",
       "      <td>(fir*) ima see what all you know about the moo...</td>\n",
       "    </tr>\n",
       "    <tr>\n",
       "      <th>3</th>\n",
       "      <td>we're gonna read about it and find out more ab...</td>\n",
       "      <td>0.049091</td>\n",
       "      <td>0.038513</td>\n",
       "      <td>0.830524</td>\n",
       "      <td>0.081872</td>\n",
       "      <td>opportunity to respond</td>\n",
       "      <td>OTR</td>\n",
       "      <td>3</td>\n",
       "      <td>NEU</td>\n",
       "      <td>we're gonna read about it and find out more ab...</td>\n",
       "    </tr>\n",
       "    <tr>\n",
       "      <th>4</th>\n",
       "      <td>I'll find out what you know about the moon.</td>\n",
       "      <td>0.059459</td>\n",
       "      <td>0.009332</td>\n",
       "      <td>0.859977</td>\n",
       "      <td>0.071232</td>\n",
       "      <td>opportunity to respond</td>\n",
       "      <td>OTR</td>\n",
       "      <td>4</td>\n",
       "      <td>NEU</td>\n",
       "      <td>I'll find out what you know about the moon.</td>\n",
       "    </tr>\n",
       "    <tr>\n",
       "      <th>5</th>\n",
       "      <td>is that all right?</td>\n",
       "      <td>0.081929</td>\n",
       "      <td>0.094927</td>\n",
       "      <td>0.656277</td>\n",
       "      <td>0.166867</td>\n",
       "      <td>opportunity to respond</td>\n",
       "      <td>OTR</td>\n",
       "      <td>5</td>\n",
       "      <td>NEU</td>\n",
       "      <td>is that all right?</td>\n",
       "    </tr>\n",
       "    <tr>\n",
       "      <th>6</th>\n",
       "      <td>no.</td>\n",
       "      <td>0.519304</td>\n",
       "      <td>0.429021</td>\n",
       "      <td>0.042310</td>\n",
       "      <td>0.009365</td>\n",
       "      <td>negative feedback</td>\n",
       "      <td>REP</td>\n",
       "      <td>6</td>\n",
       "      <td>REP</td>\n",
       "      <td>no.</td>\n",
       "    </tr>\n",
       "    <tr>\n",
       "      <th>7</th>\n",
       "      <td>just act normal please.</td>\n",
       "      <td>0.085889</td>\n",
       "      <td>0.497757</td>\n",
       "      <td>0.345656</td>\n",
       "      <td>0.070698</td>\n",
       "      <td>neutral</td>\n",
       "      <td>NEU</td>\n",
       "      <td>7</td>\n",
       "      <td>REP</td>\n",
       "      <td>just act normal please.</td>\n",
       "    </tr>\n",
       "    <tr>\n",
       "      <th>8</th>\n",
       "      <td>(so) let's see.</td>\n",
       "      <td>0.021734</td>\n",
       "      <td>0.027916</td>\n",
       "      <td>0.875908</td>\n",
       "      <td>0.074442</td>\n",
       "      <td>opportunity to respond</td>\n",
       "      <td>OTR</td>\n",
       "      <td>8</td>\n",
       "      <td>NEU</td>\n",
       "      <td>(so) let's see.</td>\n",
       "    </tr>\n",
       "    <tr>\n",
       "      <th>9</th>\n",
       "      <td>name tell me what you know about the moon so far.</td>\n",
       "      <td>0.012012</td>\n",
       "      <td>0.008315</td>\n",
       "      <td>0.948941</td>\n",
       "      <td>0.030732</td>\n",
       "      <td>opportunity to respond</td>\n",
       "      <td>OTR</td>\n",
       "      <td>9</td>\n",
       "      <td>OTR</td>\n",
       "      <td>name tell me what you know about the moon so far.</td>\n",
       "    </tr>\n",
       "    <tr>\n",
       "      <th>10</th>\n",
       "      <td>gimme one thing.</td>\n",
       "      <td>0.072738</td>\n",
       "      <td>0.086901</td>\n",
       "      <td>0.706582</td>\n",
       "      <td>0.133779</td>\n",
       "      <td>opportunity to respond</td>\n",
       "      <td>OTR</td>\n",
       "      <td>10</td>\n",
       "      <td>OTR</td>\n",
       "      <td>gimme one thing.</td>\n",
       "    </tr>\n",
       "    <tr>\n",
       "      <th>11</th>\n",
       "      <td>smaller than the earth.</td>\n",
       "      <td>0.301427</td>\n",
       "      <td>0.149933</td>\n",
       "      <td>0.352268</td>\n",
       "      <td>0.196373</td>\n",
       "      <td>opportunity to respond</td>\n",
       "      <td>OTR</td>\n",
       "      <td>11</td>\n",
       "      <td>NEU</td>\n",
       "      <td>smaller than the earth.</td>\n",
       "    </tr>\n",
       "    <tr>\n",
       "      <th>12</th>\n",
       "      <td>that's very good.</td>\n",
       "      <td>0.001778</td>\n",
       "      <td>0.004480</td>\n",
       "      <td>0.033435</td>\n",
       "      <td>0.960307</td>\n",
       "      <td>positive feedback</td>\n",
       "      <td>PRS</td>\n",
       "      <td>12</td>\n",
       "      <td>PRS</td>\n",
       "      <td>that's very good.</td>\n",
       "    </tr>\n",
       "    <tr>\n",
       "      <th>13</th>\n",
       "      <td>that is very observant.</td>\n",
       "      <td>0.073840</td>\n",
       "      <td>0.065729</td>\n",
       "      <td>0.394911</td>\n",
       "      <td>0.465520</td>\n",
       "      <td>positive feedback</td>\n",
       "      <td>PRS</td>\n",
       "      <td>13</td>\n",
       "      <td>PRS</td>\n",
       "      <td>that is very observant.</td>\n",
       "    </tr>\n",
       "    <tr>\n",
       "      <th>14</th>\n",
       "      <td>smaller than earth.</td>\n",
       "      <td>0.280279</td>\n",
       "      <td>0.197480</td>\n",
       "      <td>0.316928</td>\n",
       "      <td>0.205314</td>\n",
       "      <td>opportunity to respond</td>\n",
       "      <td>OTR</td>\n",
       "      <td>14</td>\n",
       "      <td>NEU</td>\n",
       "      <td>smaller than earth.</td>\n",
       "    </tr>\n",
       "  </tbody>\n",
       "</table>\n",
       "</div>"
      ],
      "text/plain": [
       "                                             sequence  negative feedback  \\\n",
       "0                 today we're talking about the moon.           0.100433   \n",
       "1                                           so today>           0.126516   \n",
       "2   (fir*) ima see what all you know about the moo...           0.334217   \n",
       "3   we're gonna read about it and find out more ab...           0.049091   \n",
       "4         I'll find out what you know about the moon.           0.059459   \n",
       "5                                  is that all right?           0.081929   \n",
       "6                                                 no.           0.519304   \n",
       "7                             just act normal please.           0.085889   \n",
       "8                                     (so) let's see.           0.021734   \n",
       "9   name tell me what you know about the moon so far.           0.012012   \n",
       "10                                   gimme one thing.           0.072738   \n",
       "11                            smaller than the earth.           0.301427   \n",
       "12                                  that's very good.           0.001778   \n",
       "13                            that is very observant.           0.073840   \n",
       "14                                smaller than earth.           0.280279   \n",
       "\n",
       "     neutral  opportunity to respond  positive feedback  \\\n",
       "0   0.122072                0.553159           0.224336   \n",
       "1   0.098728                0.425658           0.349098   \n",
       "2   0.012606                0.437235           0.215942   \n",
       "3   0.038513                0.830524           0.081872   \n",
       "4   0.009332                0.859977           0.071232   \n",
       "5   0.094927                0.656277           0.166867   \n",
       "6   0.429021                0.042310           0.009365   \n",
       "7   0.497757                0.345656           0.070698   \n",
       "8   0.027916                0.875908           0.074442   \n",
       "9   0.008315                0.948941           0.030732   \n",
       "10  0.086901                0.706582           0.133779   \n",
       "11  0.149933                0.352268           0.196373   \n",
       "12  0.004480                0.033435           0.960307   \n",
       "13  0.065729                0.394911           0.465520   \n",
       "14  0.197480                0.316928           0.205314   \n",
       "\n",
       "             pred_zslabels pred  sample_id truth  \\\n",
       "0   opportunity to respond  OTR          0   NEU   \n",
       "1   opportunity to respond  OTR          1   NEU   \n",
       "2   opportunity to respond  OTR          2   NEU   \n",
       "3   opportunity to respond  OTR          3   NEU   \n",
       "4   opportunity to respond  OTR          4   NEU   \n",
       "5   opportunity to respond  OTR          5   NEU   \n",
       "6        negative feedback  REP          6   REP   \n",
       "7                  neutral  NEU          7   REP   \n",
       "8   opportunity to respond  OTR          8   NEU   \n",
       "9   opportunity to respond  OTR          9   OTR   \n",
       "10  opportunity to respond  OTR         10   OTR   \n",
       "11  opportunity to respond  OTR         11   NEU   \n",
       "12       positive feedback  PRS         12   PRS   \n",
       "13       positive feedback  PRS         13   PRS   \n",
       "14  opportunity to respond  OTR         14   NEU   \n",
       "\n",
       "                                               speech  \n",
       "0                 today we're talking about the moon.  \n",
       "1                                           so today>  \n",
       "2   (fir*) ima see what all you know about the moo...  \n",
       "3   we're gonna read about it and find out more ab...  \n",
       "4         I'll find out what you know about the moon.  \n",
       "5                                  is that all right?  \n",
       "6                                                 no.  \n",
       "7                             just act normal please.  \n",
       "8                                     (so) let's see.  \n",
       "9   name tell me what you know about the moon so far.  \n",
       "10                                   gimme one thing.  \n",
       "11                            smaller than the earth.  \n",
       "12                                  that's very good.  \n",
       "13                            that is very observant.  \n",
       "14                                smaller than earth.  "
      ]
     },
     "execution_count": null,
     "metadata": {},
     "output_type": "execute_result"
    }
   ],
   "source": [
    "#now, we'll join on the real labels and some other columns just to make sure things look right\n",
    "results_df = results_df.merge(transcript_df[['sample_id', 'label', 'speech']], left_index=True, right_on='sample_id')\n",
    "\n",
    "#there's a current challenge in the data with leading and trailing whitespace so let's make sure to strip that off our labels\n",
    "results_df['label'] = results_df['label'].str.strip()\n",
    "\n",
    "#let's rename the 'label' column to be 'truth'\n",
    "results_df = results_df.rename(columns={'label':'truth'})\n",
    "\n",
    "#let's look at the first 15 rows of the result\n",
    "results_df.head(15)"
   ]
  },
  {
   "cell_type": "markdown",
   "metadata": {},
   "source": [
    "Great! This looks correct.  Let's start with the performance evaluation."
   ]
  },
  {
   "cell_type": "markdown",
   "metadata": {},
   "source": [
    "## Evaluate performance using confusion matrix\n",
    "Given the structure our results, let's finish up with a confusion matrix."
   ]
  },
  {
   "cell_type": "code",
   "execution_count": null,
   "metadata": {},
   "outputs": [],
   "source": [
    "#use confusion matrix function from scikit-learn metrics\n",
    "c_ma = confusion_matrix(results_df['truth'], results_df['pred'], labels=transcript_labels)"
   ]
  },
  {
   "cell_type": "code",
   "execution_count": null,
   "metadata": {},
   "outputs": [
    {
     "data": {
      "text/html": [
       "<div>\n",
       "<style scoped>\n",
       "    .dataframe tbody tr th:only-of-type {\n",
       "        vertical-align: middle;\n",
       "    }\n",
       "\n",
       "    .dataframe tbody tr th {\n",
       "        vertical-align: top;\n",
       "    }\n",
       "\n",
       "    .dataframe thead th {\n",
       "        text-align: right;\n",
       "    }\n",
       "</style>\n",
       "<table border=\"1\" class=\"dataframe\">\n",
       "  <thead>\n",
       "    <tr style=\"text-align: right;\">\n",
       "      <th>Predicted Labels</th>\n",
       "      <th>positive feedback</th>\n",
       "      <th>negative feedback</th>\n",
       "      <th>neutral</th>\n",
       "      <th>opportunity to respond</th>\n",
       "    </tr>\n",
       "    <tr>\n",
       "      <th>Actual Labels</th>\n",
       "      <th></th>\n",
       "      <th></th>\n",
       "      <th></th>\n",
       "      <th></th>\n",
       "    </tr>\n",
       "  </thead>\n",
       "  <tbody>\n",
       "    <tr>\n",
       "      <th>positive feedback</th>\n",
       "      <td>1525</td>\n",
       "      <td>9</td>\n",
       "      <td>10</td>\n",
       "      <td>140</td>\n",
       "    </tr>\n",
       "    <tr>\n",
       "      <th>negative feedback</th>\n",
       "      <td>37</td>\n",
       "      <td>168</td>\n",
       "      <td>27</td>\n",
       "      <td>277</td>\n",
       "    </tr>\n",
       "    <tr>\n",
       "      <th>neutral</th>\n",
       "      <td>1759</td>\n",
       "      <td>1056</td>\n",
       "      <td>278</td>\n",
       "      <td>4796</td>\n",
       "    </tr>\n",
       "    <tr>\n",
       "      <th>opportunity to respond</th>\n",
       "      <td>239</td>\n",
       "      <td>140</td>\n",
       "      <td>36</td>\n",
       "      <td>3242</td>\n",
       "    </tr>\n",
       "  </tbody>\n",
       "</table>\n",
       "</div>"
      ],
      "text/plain": [
       "Predicted Labels        positive feedback  negative feedback  neutral  \\\n",
       "Actual Labels                                                           \n",
       "positive feedback                    1525                  9       10   \n",
       "negative feedback                      37                168       27   \n",
       "neutral                              1759               1056      278   \n",
       "opportunity to respond                239                140       36   \n",
       "\n",
       "Predicted Labels        opportunity to respond  \n",
       "Actual Labels                                   \n",
       "positive feedback                          140  \n",
       "negative feedback                          277  \n",
       "neutral                                   4796  \n",
       "opportunity to respond                    3242  "
      ]
     },
     "execution_count": null,
     "metadata": {},
     "output_type": "execute_result"
    }
   ],
   "source": [
    "#create a dataframe from the confusion matrix\n",
    "c_df = pd.DataFrame(c_ma,\n",
    "                    columns = transcript_labels,\n",
    "                    index = transcript_labels)\n",
    "\n",
    "#use reverse lookup table from above to use the actual labels that we assigned for zero shot\n",
    "c_df.rename(columns=rev_labels_lookup, index=rev_labels_lookup, inplace=True)\n",
    "\n",
    "#add axis labels for seaborn\n",
    "c_df.index.name = 'Actual Labels'\n",
    "c_df.columns.name = 'Predicted Labels'\n",
    "\n",
    "#inspect\n",
    "c_df"
   ]
  },
  {
   "cell_type": "code",
   "execution_count": null,
   "metadata": {},
   "outputs": [
    {
     "data": {
      "image/png": "[encoded data removed]",
      "text/plain": [
       "<Figure size 432x288 with 2 Axes>"
      ]
     },
     "metadata": {
      "needs_background": "light"
     },
     "output_type": "display_data"
    }
   ],
   "source": [
    "#use seaborne to display as heatmap\n",
    "ax = sns.heatmap(c_df, cmap='Blues', annot=True, fmt='d');\n",
    "ax.set_xticklabels(ax.get_xticklabels(),rotation = 45);\n",
    "ax.set_yticklabels(ax.get_yticklabels(),rotation = 45);"
   ]
  },
  {
   "cell_type": "markdown",
   "metadata": {},
   "source": [
    "Let's inspect this confusion matrix.\n",
    "* It is hard for zero shot to distinguish neutral.  Looking across the row, neutral is incorrectly predicted to be every class, much moreso than it is correctly predicted in general.\n",
    "* The model is great at classifying OTR and PRS (high sensitivity), but it also tends to assign these classifications heavily (even though they're not as strongly represented in the dataset).\n",
    "\n",
    "Great steps to improve from here include:\n",
    "* Training a model to discern between neutral and other classes\n",
    "* Directly converting the logits to probabilities, and considering examples with target probabilities (i.e., PRS, REP, OTR) lower than a particular threshold to be neutral.\n",
    "* Inspecting the eyeball set of misclassified samples to identify if there's any similarities or improvements which can be proposed."
   ]
  },
  {
   "cell_type": "markdown",
   "metadata": {},
   "source": [
    "# Evaluate Performance Using Classification Report\n",
    "Here, we'll just use the classification report function from sklearn.  This will return the precision (positive predictive value), recall (sensitivity), and f1 score (harmonic mean of precision and recall) as well as different types of averages to come to a final value."
   ]
  },
  {
   "cell_type": "code",
   "execution_count": null,
   "metadata": {},
   "outputs": [
    {
     "name": "stdout",
     "output_type": "stream",
     "text": [
      "                        precision    recall  f1-score   support\n",
      "\n",
      "     positive feedback       0.43      0.91      0.58      1684\n",
      "     negative feedback       0.12      0.33      0.18       509\n",
      "               neutral       0.79      0.04      0.07      7889\n",
      "opportunity to respond       0.38      0.89      0.54      3657\n",
      "\n",
      "             micro avg       0.38      0.38      0.38     13739\n",
      "             macro avg       0.43      0.54      0.34     13739\n",
      "          weighted avg       0.61      0.38      0.26     13739\n",
      "\n"
     ]
    }
   ],
   "source": [
    "perf_metrics = classification_report(results_df.dropna()['truth'], results_df.dropna()['pred'], labels=transcript_labels, target_names = candidate_labels)\n",
    "print(perf_metrics)"
   ]
  },
  {
   "cell_type": "markdown",
   "metadata": {},
   "source": [
    "Let's look at this.  We notice a few things in looking at the per-class metrics.\n",
    "* The support of the averages is 13739, which is 4 less than the total sample size.  This is investigated more below, but essentially boils down to that there are 4 rows where the ground truth labels are incorrectly entered.\n",
    "* These results frame what we observed in the confusion matrix.  First, we see that PRS and OTR have good-ish sensitivity, but this is clearly at the expense of their associated precision (we predict everything to be this label, so we end up being right a lot!)\n",
    "* NEU has an absolutely terrible sensitivity - it's almost never predicted.  But when it IS predicted, it's often right!\n",
    "\n",
    "We also notice a few things in looking at the averages:\n",
    "* Let's look at the micro average.  Consider the calculation of precision, which is the number that were correctly predicted out of the total number of predicted.  We extend this for all classes such that the numerator is the total number that were correctly predicted and the denominator is the total number of predictions.  This value essentially boils down to the overall accuracy.\n",
    "* The macro average is taking all of the values for a single metric and just averaging them together, essentially giving equal weight to each of the classes.  This gives us a somewhat clearer picture, in that giving equal weighting to the performance of each class, the recall (sensitivity) is a bit higher - so on average, we do much better than guessing, and our guesses are usually right a little less than half the time.\n",
    "* The weighted average is just what you'd think - the metric for each class weighted by its support.  On average, our precision is pretty high because most of our data are neutrals, and the ppv on neutrals is high.  The tradeoff becomes clear here: the sensitivity (recall) is much lower because again, NEU is most of the dataset, and only 4% of these NEU were actually correctly identified!  Finally, the low f1 score reflects this tradeoff."
   ]
  },
  {
   "cell_type": "markdown",
   "metadata": {},
   "source": [
    "### Quick sanity checks\n",
    "Here, we'll just do a few quick sanity checks to make sure things look right"
   ]
  },
  {
   "cell_type": "code",
   "execution_count": null,
   "metadata": {},
   "outputs": [
    {
     "data": {
      "text/plain": [
       "13739"
      ]
     },
     "execution_count": null,
     "metadata": {},
     "output_type": "execute_result"
    }
   ],
   "source": [
    "#this should be the total number of rows in the results and transcripts dataframe\n",
    "c_df.sum().sum() #failed for the reasons below"
   ]
  },
  {
   "cell_type": "code",
   "execution_count": null,
   "metadata": {},
   "outputs": [
    {
     "data": {
      "text/plain": [
       "NEU    7889\n",
       "OTR    3657\n",
       "PRS    1684\n",
       "REP     509\n",
       "NO        1\n",
       "OTS       1\n",
       "NUE       1\n",
       "OT        1\n",
       "Name: truth, dtype: int64"
      ]
     },
     "execution_count": null,
     "metadata": {},
     "output_type": "execute_result"
    }
   ],
   "source": [
    "#this should be equal to the sum of the rows of the confusion matrix\n",
    "results_df['truth'].value_counts() #passed"
   ]
  },
  {
   "cell_type": "markdown",
   "metadata": {},
   "source": [
    "We see here that there are some errors in the encodings for the labels.  These incorrect rows have been discarded in the computation of the confusion matrix and classification report.  Only the labels provided by the function argument `labels` are used."
   ]
  },
  {
   "cell_type": "code",
   "execution_count": null,
   "metadata": {},
   "outputs": [
    {
     "data": {
      "text/plain": [
       "OTR    8457\n",
       "PRS    3562\n",
       "REP    1373\n",
       "NEU     351\n",
       "Name: pred, dtype: int64"
      ]
     },
     "execution_count": null,
     "metadata": {},
     "output_type": "execute_result"
    }
   ],
   "source": [
    "#this should be equal to the sum of the columns of the confusion matrix\n",
    "results_df['pred'].value_counts() #passed"
   ]
  },
  {
   "cell_type": "markdown",
   "metadata": {},
   "source": [
    "This again reinforces some of our results from the confusion matrix and the classification report.  We can see that NEU is the most populated class by a factor of 2 above the largest class, and yet it is the least represented in the predictions.  We can see that OTR, REP, and PRS are heavily predicted, despite their ground truth labels representing less than half of the entire dataset in total."
   ]
  }
 ],
 "metadata": {
  "kernelspec": {
   "display_name": "Python 3 (ipykernel)",
   "language": "python",
   "name": "python3"
  }
 },
 "nbformat": 4,
 "nbformat_minor": 4
}
