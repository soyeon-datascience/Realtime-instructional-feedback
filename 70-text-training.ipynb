{
 "cells": [
  {
   "cell_type": "markdown",
   "metadata": {},
   "source": [
    "# 70-text-training\n",
    "> Training models\n",
    "\n",
    "In this notebook, I fine-tuned the model \"bert-base-cased\" using tokenizer encodings. 80% of original data is used as training data, and 10% of the original data is used as test data. This fine-tuend model shows 93% accuracy on test dataset."
   ]
  },
  {
   "cell_type": "code",
   "execution_count": 3,
   "metadata": {},
   "outputs": [],
   "source": [
    "import pandas as pd\n",
    "import numpy as np\n",
    "import seaborn as sns\n",
    "\n",
    "from datasets import load_dataset, load_metric, Dataset\n",
    "\n",
    "from transformers import pipeline, AutoTokenizer, AutoModelForSequenceClassification, TrainingArguments, Trainer\n",
    "from sklearn.metrics import confusion_matrix, classification_report\n",
    "import torch\n",
    "\n",
    "import os"
   ]
  },
  {
   "cell_type": "markdown",
   "metadata": {},
   "source": [
    "# Load data"
   ]
  },
  {
   "cell_type": "markdown",
   "metadata": {},
   "source": [
    "In this section, we're going to use directly load the full CSV of all of the data and use it directly."
   ]
  },
  {
   "cell_type": "code",
   "execution_count": 10,
   "metadata": {},
   "outputs": [],
   "source": [
    "# I imported \"final_add_split.csv\" file from my own ACCRE. You should change the path of the file.\n",
    "base_prefix = os.path.expanduser('/data/p_dsi/wise/data/cleaned_data/')\n",
    "file_dir = base_prefix + 'final_csv_wsplits.csv'\n",
    "data = pd.read_csv(file_dir)"
   ]
  },
  {
   "cell_type": "code",
   "execution_count": 11,
   "metadata": {},
   "outputs": [
    {
     "data": {
      "text/html": [
       "<div>\n",
       "<style scoped>\n",
       "    .dataframe tbody tr th:only-of-type {\n",
       "        vertical-align: middle;\n",
       "    }\n",
       "\n",
       "    .dataframe tbody tr th {\n",
       "        vertical-align: top;\n",
       "    }\n",
       "\n",
       "    .dataframe thead th {\n",
       "        text-align: right;\n",
       "    }\n",
       "</style>\n",
       "<table border=\"1\" class=\"dataframe\">\n",
       "  <thead>\n",
       "    <tr style=\"text-align: right;\">\n",
       "      <th></th>\n",
       "      <th>id</th>\n",
       "      <th>transcript_filepath</th>\n",
       "      <th>wave_filename</th>\n",
       "      <th>speech</th>\n",
       "      <th>start_timestamp</th>\n",
       "      <th>end_timestamp</th>\n",
       "      <th>label</th>\n",
       "      <th>transcriber_id</th>\n",
       "      <th>split</th>\n",
       "    </tr>\n",
       "  </thead>\n",
       "  <tbody>\n",
       "    <tr>\n",
       "      <th>0</th>\n",
       "      <td>135-2</td>\n",
       "      <td>~ise/data/cleaned_data/cleaned_transcripts/135...</td>\n",
       "      <td>/data/p_dsi/wise/data/Audio Files &amp; Tanscripts...</td>\n",
       "      <td>if we do 100 and we use the power of ten we mu...</td>\n",
       "      <td>00:01:05.04</td>\n",
       "      <td>00:02:02.05</td>\n",
       "      <td>OTR</td>\n",
       "      <td>198</td>\n",
       "      <td>0</td>\n",
       "    </tr>\n",
       "    <tr>\n",
       "      <th>1</th>\n",
       "      <td>252-1</td>\n",
       "      <td>~ise/data/cleaned_data/cleaned_transcripts/252...</td>\n",
       "      <td>/data/p_dsi/wise/data/Audio Files &amp; Tanscripts...</td>\n",
       "      <td>raise your fingers.</td>\n",
       "      <td>00:06:14.05</td>\n",
       "      <td>00:07:18.00</td>\n",
       "      <td>OTR</td>\n",
       "      <td>198</td>\n",
       "      <td>0</td>\n",
       "    </tr>\n",
       "    <tr>\n",
       "      <th>2</th>\n",
       "      <td>116-3</td>\n",
       "      <td>~ise/data/cleaned_data/cleaned_transcripts/116...</td>\n",
       "      <td>/data/p_dsi/wise/data/Audio Files &amp; Tanscripts...</td>\n",
       "      <td>well you know what I will take this.</td>\n",
       "      <td>00:02:03.24</td>\n",
       "      <td>00:04:05.01</td>\n",
       "      <td>NEU</td>\n",
       "      <td>198</td>\n",
       "      <td>0</td>\n",
       "    </tr>\n",
       "    <tr>\n",
       "      <th>3</th>\n",
       "      <td>251-1</td>\n",
       "      <td>~ise/data/cleaned_data/cleaned_transcripts/251...</td>\n",
       "      <td>/data/p_dsi/wise/data/Audio Files &amp; Tanscripts...</td>\n",
       "      <td>the body.</td>\n",
       "      <td>00:08:09.01</td>\n",
       "      <td>00:10:02.02</td>\n",
       "      <td>NEU</td>\n",
       "      <td>198</td>\n",
       "      <td>0</td>\n",
       "    </tr>\n",
       "    <tr>\n",
       "      <th>4</th>\n",
       "      <td>252-2</td>\n",
       "      <td>~ise/data/cleaned_data/cleaned_transcripts/252...</td>\n",
       "      <td>/data/p_dsi/wise/data/Audio Files &amp; Tanscripts...</td>\n",
       "      <td>I'm gonna actually underline these two sentenc...</td>\n",
       "      <td>00:06:09.00</td>\n",
       "      <td>00:07:35.27</td>\n",
       "      <td>NEU</td>\n",
       "      <td>198</td>\n",
       "      <td>0</td>\n",
       "    </tr>\n",
       "  </tbody>\n",
       "</table>\n",
       "</div>"
      ],
      "text/plain": [
       "      id                                transcript_filepath  \\\n",
       "0  135-2  ~ise/data/cleaned_data/cleaned_transcripts/135...   \n",
       "1  252-1  ~ise/data/cleaned_data/cleaned_transcripts/252...   \n",
       "2  116-3  ~ise/data/cleaned_data/cleaned_transcripts/116...   \n",
       "3  251-1  ~ise/data/cleaned_data/cleaned_transcripts/251...   \n",
       "4  252-2  ~ise/data/cleaned_data/cleaned_transcripts/252...   \n",
       "\n",
       "                                       wave_filename  \\\n",
       "0  /data/p_dsi/wise/data/Audio Files & Tanscripts...   \n",
       "1  /data/p_dsi/wise/data/Audio Files & Tanscripts...   \n",
       "2  /data/p_dsi/wise/data/Audio Files & Tanscripts...   \n",
       "3  /data/p_dsi/wise/data/Audio Files & Tanscripts...   \n",
       "4  /data/p_dsi/wise/data/Audio Files & Tanscripts...   \n",
       "\n",
       "                                              speech start_timestamp  \\\n",
       "0  if we do 100 and we use the power of ten we mu...     00:01:05.04   \n",
       "1                                raise your fingers.     00:06:14.05   \n",
       "2               well you know what I will take this.     00:02:03.24   \n",
       "3                                          the body.     00:08:09.01   \n",
       "4  I'm gonna actually underline these two sentenc...     00:06:09.00   \n",
       "\n",
       "  end_timestamp label  transcriber_id  split  \n",
       "0   00:02:02.05   OTR             198      0  \n",
       "1   00:07:18.00   OTR             198      0  \n",
       "2   00:04:05.01   NEU             198      0  \n",
       "3   00:10:02.02   NEU             198      0  \n",
       "4   00:07:35.27   NEU             198      0  "
      ]
     },
     "execution_count": 11,
     "metadata": {},
     "output_type": "execute_result"
    }
   ],
   "source": [
    "data.head()"
   ]
  },
  {
   "cell_type": "markdown",
   "metadata": {},
   "source": [
    "To make a computer understand each label, labels such as \"PRS\" and \"REP\" should be converted to a numerical value. Therefore we are going to make a new column called \"label_digit\" and we are going to assign a value like this:\n",
    "\n",
    "- PRS : 0\n",
    "- REP : 1\n",
    "- NEU : 2\n",
    "- OTR : 3"
   ]
  },
  {
   "cell_type": "code",
   "execution_count": 12,
   "metadata": {},
   "outputs": [],
   "source": [
    "# Add column 'label_digit' to convert classes' type into numbers.\n",
    "conditions = [\n",
    "    (data['label'] == \"PRS\"),\n",
    "    (data['label'] == 'REP'),\n",
    "    (data['label'] == 'NEU'),\n",
    "    (data['label'] == \"OTR\")\n",
    "    ]\n",
    "\n",
    "values = [0, 1, 2, 3]\n",
    "\n",
    "data['label_digit'] = np.select(conditions, values)"
   ]
  },
  {
   "cell_type": "code",
   "execution_count": 13,
   "metadata": {},
   "outputs": [
    {
     "data": {
      "text/html": [
       "<div>\n",
       "<style scoped>\n",
       "    .dataframe tbody tr th:only-of-type {\n",
       "        vertical-align: middle;\n",
       "    }\n",
       "\n",
       "    .dataframe tbody tr th {\n",
       "        vertical-align: top;\n",
       "    }\n",
       "\n",
       "    .dataframe thead th {\n",
       "        text-align: right;\n",
       "    }\n",
       "</style>\n",
       "<table border=\"1\" class=\"dataframe\">\n",
       "  <thead>\n",
       "    <tr style=\"text-align: right;\">\n",
       "      <th></th>\n",
       "      <th>id</th>\n",
       "      <th>transcript_filepath</th>\n",
       "      <th>wave_filename</th>\n",
       "      <th>speech</th>\n",
       "      <th>start_timestamp</th>\n",
       "      <th>end_timestamp</th>\n",
       "      <th>label</th>\n",
       "      <th>transcriber_id</th>\n",
       "      <th>split</th>\n",
       "      <th>label_digit</th>\n",
       "    </tr>\n",
       "  </thead>\n",
       "  <tbody>\n",
       "    <tr>\n",
       "      <th>0</th>\n",
       "      <td>135-2</td>\n",
       "      <td>~ise/data/cleaned_data/cleaned_transcripts/135...</td>\n",
       "      <td>/data/p_dsi/wise/data/Audio Files &amp; Tanscripts...</td>\n",
       "      <td>if we do 100 and we use the power of ten we mu...</td>\n",
       "      <td>00:01:05.04</td>\n",
       "      <td>00:02:02.05</td>\n",
       "      <td>OTR</td>\n",
       "      <td>198</td>\n",
       "      <td>0</td>\n",
       "      <td>3</td>\n",
       "    </tr>\n",
       "    <tr>\n",
       "      <th>1</th>\n",
       "      <td>252-1</td>\n",
       "      <td>~ise/data/cleaned_data/cleaned_transcripts/252...</td>\n",
       "      <td>/data/p_dsi/wise/data/Audio Files &amp; Tanscripts...</td>\n",
       "      <td>raise your fingers.</td>\n",
       "      <td>00:06:14.05</td>\n",
       "      <td>00:07:18.00</td>\n",
       "      <td>OTR</td>\n",
       "      <td>198</td>\n",
       "      <td>0</td>\n",
       "      <td>3</td>\n",
       "    </tr>\n",
       "    <tr>\n",
       "      <th>2</th>\n",
       "      <td>116-3</td>\n",
       "      <td>~ise/data/cleaned_data/cleaned_transcripts/116...</td>\n",
       "      <td>/data/p_dsi/wise/data/Audio Files &amp; Tanscripts...</td>\n",
       "      <td>well you know what I will take this.</td>\n",
       "      <td>00:02:03.24</td>\n",
       "      <td>00:04:05.01</td>\n",
       "      <td>NEU</td>\n",
       "      <td>198</td>\n",
       "      <td>0</td>\n",
       "      <td>2</td>\n",
       "    </tr>\n",
       "    <tr>\n",
       "      <th>3</th>\n",
       "      <td>251-1</td>\n",
       "      <td>~ise/data/cleaned_data/cleaned_transcripts/251...</td>\n",
       "      <td>/data/p_dsi/wise/data/Audio Files &amp; Tanscripts...</td>\n",
       "      <td>the body.</td>\n",
       "      <td>00:08:09.01</td>\n",
       "      <td>00:10:02.02</td>\n",
       "      <td>NEU</td>\n",
       "      <td>198</td>\n",
       "      <td>0</td>\n",
       "      <td>2</td>\n",
       "    </tr>\n",
       "    <tr>\n",
       "      <th>4</th>\n",
       "      <td>252-2</td>\n",
       "      <td>~ise/data/cleaned_data/cleaned_transcripts/252...</td>\n",
       "      <td>/data/p_dsi/wise/data/Audio Files &amp; Tanscripts...</td>\n",
       "      <td>I'm gonna actually underline these two sentenc...</td>\n",
       "      <td>00:06:09.00</td>\n",
       "      <td>00:07:35.27</td>\n",
       "      <td>NEU</td>\n",
       "      <td>198</td>\n",
       "      <td>0</td>\n",
       "      <td>2</td>\n",
       "    </tr>\n",
       "  </tbody>\n",
       "</table>\n",
       "</div>"
      ],
      "text/plain": [
       "      id                                transcript_filepath  \\\n",
       "0  135-2  ~ise/data/cleaned_data/cleaned_transcripts/135...   \n",
       "1  252-1  ~ise/data/cleaned_data/cleaned_transcripts/252...   \n",
       "2  116-3  ~ise/data/cleaned_data/cleaned_transcripts/116...   \n",
       "3  251-1  ~ise/data/cleaned_data/cleaned_transcripts/251...   \n",
       "4  252-2  ~ise/data/cleaned_data/cleaned_transcripts/252...   \n",
       "\n",
       "                                       wave_filename  \\\n",
       "0  /data/p_dsi/wise/data/Audio Files & Tanscripts...   \n",
       "1  /data/p_dsi/wise/data/Audio Files & Tanscripts...   \n",
       "2  /data/p_dsi/wise/data/Audio Files & Tanscripts...   \n",
       "3  /data/p_dsi/wise/data/Audio Files & Tanscripts...   \n",
       "4  /data/p_dsi/wise/data/Audio Files & Tanscripts...   \n",
       "\n",
       "                                              speech start_timestamp  \\\n",
       "0  if we do 100 and we use the power of ten we mu...     00:01:05.04   \n",
       "1                                raise your fingers.     00:06:14.05   \n",
       "2               well you know what I will take this.     00:02:03.24   \n",
       "3                                          the body.     00:08:09.01   \n",
       "4  I'm gonna actually underline these two sentenc...     00:06:09.00   \n",
       "\n",
       "  end_timestamp label  transcriber_id  split  label_digit  \n",
       "0   00:02:02.05   OTR             198      0            3  \n",
       "1   00:07:18.00   OTR             198      0            3  \n",
       "2   00:04:05.01   NEU             198      0            2  \n",
       "3   00:10:02.02   NEU             198      0            2  \n",
       "4   00:07:35.27   NEU             198      0            2  "
      ]
     },
     "execution_count": 13,
     "metadata": {},
     "output_type": "execute_result"
    }
   ],
   "source": [
    "data.head()"
   ]
  },
  {
   "cell_type": "markdown",
   "metadata": {},
   "source": [
    "# Load tokenizer"
   ]
  },
  {
   "cell_type": "markdown",
   "metadata": {},
   "source": [
    "Tokenizer is a translator from human-readable text, to transformer readable tokens. In this notebook, we are going to use pretrained Tokenizer \"bert-base-cased\".                                         "
   ]
  },
  {
   "cell_type": "code",
   "execution_count": 14,
   "metadata": {},
   "outputs": [],
   "source": [
    "tokenizer = AutoTokenizer.from_pretrained(\"bert-base-cased\")"
   ]
  },
  {
   "cell_type": "markdown",
   "metadata": {},
   "source": [
    "# Tokenize inputs and convert to PyTorch dataset"
   ]
  },
  {
   "cell_type": "code",
   "execution_count": 15,
   "metadata": {},
   "outputs": [],
   "source": [
    "#create tokenized representations\n",
    "train_text = data.query('split==0')['speech'].tolist()\n",
    "test_text = data.query('split==1')['speech'].tolist()\n",
    "val_text = data.query('split==2')['speech'].tolist()\n",
    "\n",
    "train_encodings = tokenizer(train_text, truncation=True, padding='longest')\n",
    "test_encodings = tokenizer(test_text, truncation=True, padding='longest')\n",
    "val_encodings = tokenizer(val_text, truncation=True, padding='longest')"
   ]
  },
  {
   "cell_type": "code",
   "execution_count": 16,
   "metadata": {},
   "outputs": [],
   "source": [
    "#helpers for class size and class names\n",
    "no_classes = len(data.query('split==0')['label_digit'].unique())\n",
    "label_dict = {0:\"PRS\", 1:\"REP\", 2:\"NEU\", 3:\"OTR\"}\n",
    "train_classes = [label_dict[class_ind] for class_ind in range(no_classes)]\n",
    "formal_labels = [\"praise\", \"reprimand\", \"neutral\", \"opportunity to respond\"]\n",
    "rev_labels_lookup = dict(zip(train_classes, formal_labels))"
   ]
  },
  {
   "cell_type": "code",
   "execution_count": 17,
   "metadata": {},
   "outputs": [
    {
     "name": "stdout",
     "output_type": "stream",
     "text": [
      "4\n",
      "{0: 'PRS', 1: 'REP', 2: 'NEU', 3: 'OTR'}\n",
      "['PRS', 'REP', 'NEU', 'OTR']\n",
      "['praise', 'reprimand', 'neutral', 'opportunity to respond']\n",
      "{'PRS': 'praise', 'REP': 'reprimand', 'NEU': 'neutral', 'OTR': 'opportunity to respond'}\n"
     ]
    }
   ],
   "source": [
    "print(no_classes)\n",
    "print(label_dict)\n",
    "print(train_classes)\n",
    "print(formal_labels)\n",
    "print(rev_labels_lookup)"
   ]
  },
  {
   "cell_type": "markdown",
   "metadata": {},
   "source": [
    "Now, let's pass our labels and encodings to a Dataset object. We put the data in this format so that the data can be easily batched such that each key in the batch encoding corresponds to a named parameter of the forward() method of the model we will train."
   ]
  },
  {
   "cell_type": "code",
   "execution_count": 18,
   "metadata": {},
   "outputs": [],
   "source": [
    "#Create custom Datasets Class\n",
    "class CustomDataset(torch.utils.data.Dataset):\n",
    "    def __init__(self, encodings, labels):\n",
    "        self.encodings = encodings\n",
    "        self.labels = labels\n",
    "\n",
    "    def __getitem__(self, idx):\n",
    "        item = {key: torch.tensor(val[idx]) for key, val in self.encodings.items()}\n",
    "        item['labels'] = torch.tensor(self.labels[idx])\n",
    "        return item\n",
    "\n",
    "    def __len__(self):\n",
    "        return len(self.labels)\n",
    "\n",
    "#Create datasets from encodings\n",
    "train_dataset = CustomDataset(train_encodings, data.query('split==0')['label_digit'].tolist())\n",
    "test_dataset = CustomDataset(test_encodings, data.query('split==1')['label_digit'].tolist())\n",
    "val_dataset = CustomDataset(val_encodings, data.query('split==2')['label_digit'].tolist())"
   ]
  },
  {
   "cell_type": "markdown",
   "metadata": {},
   "source": [
    "# Create model for task"
   ]
  },
  {
   "cell_type": "markdown",
   "metadata": {},
   "source": [
    "To train the model, we are going to use pretrained model called \"bert-base-cased\". Using our dataset, we are going to fine-tune this model."
   ]
  },
  {
   "cell_type": "code",
   "execution_count": 19,
   "metadata": {
    "scrolled": true
   },
   "outputs": [
    {
     "name": "stderr",
     "output_type": "stream",
     "text": [
      "Some weights of the model checkpoint at bert-base-cased were not used when initializing BertForSequenceClassification: ['cls.predictions.transform.dense.bias', 'cls.predictions.bias', 'cls.seq_relationship.weight', 'cls.predictions.transform.LayerNorm.bias', 'cls.predictions.transform.dense.weight', 'cls.predictions.decoder.weight', 'cls.predictions.transform.LayerNorm.weight', 'cls.seq_relationship.bias']\n",
      "- This IS expected if you are initializing BertForSequenceClassification from the checkpoint of a model trained on another task or with another architecture (e.g. initializing a BertForSequenceClassification model from a BertForPreTraining model).\n",
      "- This IS NOT expected if you are initializing BertForSequenceClassification from the checkpoint of a model that you expect to be exactly identical (initializing a BertForSequenceClassification model from a BertForSequenceClassification model).\n",
      "Some weights of BertForSequenceClassification were not initialized from the model checkpoint at bert-base-cased and are newly initialized: ['classifier.bias', 'classifier.weight']\n",
      "You should probably TRAIN this model on a down-stream task to be able to use it for predictions and inference.\n"
     ]
    }
   ],
   "source": [
    "model = AutoModelForSequenceClassification.from_pretrained(\"bert-base-cased\", num_labels=no_classes, id2label=label_dict)"
   ]
  },
  {
   "cell_type": "markdown",
   "metadata": {},
   "source": [
    "# Train model"
   ]
  },
  {
   "cell_type": "code",
   "execution_count": 20,
   "metadata": {},
   "outputs": [],
   "source": [
    "training_args = TrainingArguments(\"test_trainer\", logging_strategy='epoch')"
   ]
  },
  {
   "cell_type": "markdown",
   "metadata": {},
   "source": [
    "Below, we use _accuracy_ as the metric for our model to assess performance during evaluation."
   ]
  },
  {
   "cell_type": "code",
   "execution_count": 21,
   "metadata": {},
   "outputs": [],
   "source": [
    "metric = load_metric(\"accuracy\")\n",
    "\n",
    "def compute_metrics(eval_pred):\n",
    "    logits, labels = eval_pred\n",
    "    predictions = np.argmax(logits, axis=-1)\n",
    "    return metric.compute(predictions=predictions, references=labels)"
   ]
  },
  {
   "cell_type": "markdown",
   "metadata": {},
   "source": [
    "Now, let's train the model. During the 3 epochs, the training model made 2103 steps. As you can see below, the training loss is getting smaller as the model make a step. This means our model is learning."
   ]
  },
  {
   "cell_type": "code",
   "execution_count": 22,
   "metadata": {},
   "outputs": [
    {
     "name": "stderr",
     "output_type": "stream",
     "text": [
      "***** Running training *****\n",
      "  Num examples = 11206\n",
      "  Num Epochs = 3\n",
      "  Instantaneous batch size per device = 8\n",
      "  Total train batch size (w. parallel, distributed & accumulation) = 16\n",
      "  Gradient Accumulation steps = 1\n",
      "  Total optimization steps = 2103\n",
      "/data/p_dsi/wise/env/lib/python3.9/site-packages/torch/nn/parallel/_functions.py:68: UserWarning: Was asked to gather along dimension 0, but all input tensors were scalars; will instead unsqueeze and return a vector.\n",
      "  warnings.warn('Was asked to gather along dimension 0, but all '\n"
     ]
    },
    {
     "name": "stdout",
     "output_type": "stream",
     "text": [
      "huggingface/tokenizers: The current process just got forked, after parallelism has already been used. Disabling parallelism to avoid deadlocks...\n",
      "To disable this warning, you can either:\n",
      "\t- Avoid using `tokenizers` before the fork if possible\n",
      "\t- Explicitly set the environment variable TOKENIZERS_PARALLELISM=(true | false)\n",
      "huggingface/tokenizers: The current process just got forked, after parallelism has already been used. Disabling parallelism to avoid deadlocks...\n",
      "To disable this warning, you can either:\n",
      "\t- Avoid using `tokenizers` before the fork if possible\n",
      "\t- Explicitly set the environment variable TOKENIZERS_PARALLELISM=(true | false)\n"
     ]
    },
    {
     "data": {
      "text/html": [
       "\n",
       "    <div>\n",
       "      \n",
       "      <progress value='2103' max='2103' style='width:300px; height:20px; vertical-align: middle;'></progress>\n",
       "      [2103/2103 06:45, Epoch 3/3]\n",
       "    </div>\n",
       "    <table border=\"1\" class=\"dataframe\">\n",
       "  <thead>\n",
       "    <tr style=\"text-align: left;\">\n",
       "      <th>Step</th>\n",
       "      <th>Training Loss</th>\n",
       "    </tr>\n",
       "  </thead>\n",
       "  <tbody>\n",
       "    <tr>\n",
       "      <td>701</td>\n",
       "      <td>0.523700</td>\n",
       "    </tr>\n",
       "    <tr>\n",
       "      <td>1402</td>\n",
       "      <td>0.337300</td>\n",
       "    </tr>\n",
       "    <tr>\n",
       "      <td>2103</td>\n",
       "      <td>0.213300</td>\n",
       "    </tr>\n",
       "  </tbody>\n",
       "</table><p>"
      ],
      "text/plain": [
       "<IPython.core.display.HTML object>"
      ]
     },
     "metadata": {},
     "output_type": "display_data"
    },
    {
     "name": "stderr",
     "output_type": "stream",
     "text": [
      "Saving model checkpoint to test_trainer/checkpoint-500\n",
      "Configuration saved in test_trainer/checkpoint-500/config.json\n",
      "Model weights saved in test_trainer/checkpoint-500/pytorch_model.bin\n",
      "tokenizer config file saved in test_trainer/checkpoint-500/tokenizer_config.json\n",
      "Special tokens file saved in test_trainer/checkpoint-500/special_tokens_map.json\n",
      "/data/p_dsi/wise/env/lib/python3.9/site-packages/torch/nn/parallel/_functions.py:68: UserWarning: Was asked to gather along dimension 0, but all input tensors were scalars; will instead unsqueeze and return a vector.\n",
      "  warnings.warn('Was asked to gather along dimension 0, but all '\n",
      "Saving model checkpoint to test_trainer/checkpoint-1000\n",
      "Configuration saved in test_trainer/checkpoint-1000/config.json\n",
      "Model weights saved in test_trainer/checkpoint-1000/pytorch_model.bin\n",
      "tokenizer config file saved in test_trainer/checkpoint-1000/tokenizer_config.json\n",
      "Special tokens file saved in test_trainer/checkpoint-1000/special_tokens_map.json\n",
      "/data/p_dsi/wise/env/lib/python3.9/site-packages/torch/nn/parallel/_functions.py:68: UserWarning: Was asked to gather along dimension 0, but all input tensors were scalars; will instead unsqueeze and return a vector.\n",
      "  warnings.warn('Was asked to gather along dimension 0, but all '\n",
      "Saving model checkpoint to test_trainer/checkpoint-1500\n",
      "Configuration saved in test_trainer/checkpoint-1500/config.json\n",
      "Model weights saved in test_trainer/checkpoint-1500/pytorch_model.bin\n",
      "tokenizer config file saved in test_trainer/checkpoint-1500/tokenizer_config.json\n",
      "Special tokens file saved in test_trainer/checkpoint-1500/special_tokens_map.json\n",
      "/data/p_dsi/wise/env/lib/python3.9/site-packages/torch/nn/parallel/_functions.py:68: UserWarning: Was asked to gather along dimension 0, but all input tensors were scalars; will instead unsqueeze and return a vector.\n",
      "  warnings.warn('Was asked to gather along dimension 0, but all '\n",
      "Saving model checkpoint to test_trainer/checkpoint-2000\n",
      "Configuration saved in test_trainer/checkpoint-2000/config.json\n",
      "Model weights saved in test_trainer/checkpoint-2000/pytorch_model.bin\n",
      "tokenizer config file saved in test_trainer/checkpoint-2000/tokenizer_config.json\n",
      "Special tokens file saved in test_trainer/checkpoint-2000/special_tokens_map.json\n",
      "/data/p_dsi/wise/env/lib/python3.9/site-packages/torch/nn/parallel/_functions.py:68: UserWarning: Was asked to gather along dimension 0, but all input tensors were scalars; will instead unsqueeze and return a vector.\n",
      "  warnings.warn('Was asked to gather along dimension 0, but all '\n",
      "\n",
      "\n",
      "Training completed. Do not forget to share your model on huggingface.co/models =)\n",
      "\n",
      "\n"
     ]
    },
    {
     "data": {
      "text/plain": [
       "TrainOutput(global_step=2103, training_loss=0.35807597858249374, metrics={'train_runtime': 410.7196, 'train_samples_per_second': 81.851, 'train_steps_per_second': 5.12, 'total_flos': 1261164296004912.0, 'train_loss': 0.35807597858249374, 'epoch': 3.0})"
      ]
     },
     "execution_count": 22,
     "metadata": {},
     "output_type": "execute_result"
    }
   ],
   "source": [
    "trainer = Trainer(\n",
    "    model=model,\n",
    "    args=training_args,\n",
    "    tokenizer=tokenizer,\n",
    "    train_dataset=train_dataset,\n",
    "    eval_dataset=val_dataset,\n",
    "    compute_metrics=compute_metrics\n",
    ")\n",
    "trainer.train()"
   ]
  },
  {
   "cell_type": "markdown",
   "metadata": {},
   "source": [
    "# Evaluate"
   ]
  },
  {
   "cell_type": "markdown",
   "metadata": {},
   "source": [
    "Our model finally finished leanring! Let's evaluated our model!"
   ]
  },
  {
   "cell_type": "code",
   "execution_count": 23,
   "metadata": {
    "scrolled": true
   },
   "outputs": [
    {
     "name": "stderr",
     "output_type": "stream",
     "text": [
      "***** Running Evaluation *****\n",
      "  Num examples = 11206\n",
      "  Batch size = 16\n"
     ]
    },
    {
     "data": {
      "text/html": [
       "\n",
       "    <div>\n",
       "      \n",
       "      <progress value='1402' max='701' style='width:300px; height:20px; vertical-align: middle;'></progress>\n",
       "      [701/701 02:13]\n",
       "    </div>\n",
       "    "
      ],
      "text/plain": [
       "<IPython.core.display.HTML object>"
      ]
     },
     "metadata": {},
     "output_type": "display_data"
    },
    {
     "data": {
      "text/plain": [
       "{'eval_loss': 0.1384349763393402,\n",
       " 'eval_accuracy': 0.954577904693914,\n",
       " 'eval_runtime': 66.539,\n",
       " 'eval_samples_per_second': 168.412,\n",
       " 'eval_steps_per_second': 10.535,\n",
       " 'epoch': 3.0}"
      ]
     },
     "execution_count": 23,
     "metadata": {},
     "output_type": "execute_result"
    }
   ],
   "source": [
    "trainer.evaluate(train_dataset)"
   ]
  },
  {
   "cell_type": "markdown",
   "metadata": {},
   "source": [
    "# Model Saving\n",
    "\n",
    "Note that after we've saved the model below, we'll be able to use the pipeline function to load this model and use it for inference."
   ]
  },
  {
   "cell_type": "code",
   "execution_count": 25,
   "metadata": {},
   "outputs": [
    {
     "name": "stderr",
     "output_type": "stream",
     "text": [
      "Saving model checkpoint to bert-teacher-saying-classifier\n",
      "Configuration saved in bert-teacher-saying-classifier/config.json\n",
      "Model weights saved in bert-teacher-saying-classifier/pytorch_model.bin\n",
      "tokenizer config file saved in bert-teacher-saying-classifier/tokenizer_config.json\n",
      "Special tokens file saved in bert-teacher-saying-classifier/special_tokens_map.json\n",
      "loading configuration file bert-teacher-saying-classifier/config.json\n",
      "Model config BertConfig {\n",
      "  \"_name_or_path\": \"bert-base-cased\",\n",
      "  \"architectures\": [\n",
      "    \"BertForSequenceClassification\"\n",
      "  ],\n",
      "  \"attention_probs_dropout_prob\": 0.1,\n",
      "  \"classifier_dropout\": null,\n",
      "  \"gradient_checkpointing\": false,\n",
      "  \"hidden_act\": \"gelu\",\n",
      "  \"hidden_dropout_prob\": 0.1,\n",
      "  \"hidden_size\": 768,\n",
      "  \"id2label\": {\n",
      "    \"0\": \"PRS\",\n",
      "    \"1\": \"REP\",\n",
      "    \"2\": \"NEU\",\n",
      "    \"3\": \"OTR\"\n",
      "  },\n",
      "  \"initializer_range\": 0.02,\n",
      "  \"intermediate_size\": 3072,\n",
      "  \"label2id\": {\n",
      "    \"LABEL_0\": 0,\n",
      "    \"LABEL_1\": 1,\n",
      "    \"LABEL_2\": 2,\n",
      "    \"LABEL_3\": 3\n",
      "  },\n",
      "  \"layer_norm_eps\": 1e-12,\n",
      "  \"max_position_embeddings\": 512,\n",
      "  \"model_type\": \"bert\",\n",
      "  \"num_attention_heads\": 12,\n",
      "  \"num_hidden_layers\": 12,\n",
      "  \"pad_token_id\": 0,\n",
      "  \"position_embedding_type\": \"absolute\",\n",
      "  \"problem_type\": \"single_label_classification\",\n",
      "  \"torch_dtype\": \"float32\",\n",
      "  \"transformers_version\": \"4.10.2\",\n",
      "  \"type_vocab_size\": 2,\n",
      "  \"use_cache\": true,\n",
      "  \"vocab_size\": 28996\n",
      "}\n",
      "\n",
      "loading configuration file bert-teacher-saying-classifier/config.json\n",
      "Model config BertConfig {\n",
      "  \"_name_or_path\": \"bert-base-cased\",\n",
      "  \"architectures\": [\n",
      "    \"BertForSequenceClassification\"\n",
      "  ],\n",
      "  \"attention_probs_dropout_prob\": 0.1,\n",
      "  \"classifier_dropout\": null,\n",
      "  \"gradient_checkpointing\": false,\n",
      "  \"hidden_act\": \"gelu\",\n",
      "  \"hidden_dropout_prob\": 0.1,\n",
      "  \"hidden_size\": 768,\n",
      "  \"id2label\": {\n",
      "    \"0\": \"PRS\",\n",
      "    \"1\": \"REP\",\n",
      "    \"2\": \"NEU\",\n",
      "    \"3\": \"OTR\"\n",
      "  },\n",
      "  \"initializer_range\": 0.02,\n",
      "  \"intermediate_size\": 3072,\n",
      "  \"label2id\": {\n",
      "    \"LABEL_0\": 0,\n",
      "    \"LABEL_1\": 1,\n",
      "    \"LABEL_2\": 2,\n",
      "    \"LABEL_3\": 3\n",
      "  },\n",
      "  \"layer_norm_eps\": 1e-12,\n",
      "  \"max_position_embeddings\": 512,\n",
      "  \"model_type\": \"bert\",\n",
      "  \"num_attention_heads\": 12,\n",
      "  \"num_hidden_layers\": 12,\n",
      "  \"pad_token_id\": 0,\n",
      "  \"position_embedding_type\": \"absolute\",\n",
      "  \"problem_type\": \"single_label_classification\",\n",
      "  \"torch_dtype\": \"float32\",\n",
      "  \"transformers_version\": \"4.10.2\",\n",
      "  \"type_vocab_size\": 2,\n",
      "  \"use_cache\": true,\n",
      "  \"vocab_size\": 28996\n",
      "}\n",
      "\n",
      "loading weights file bert-teacher-saying-classifier/pytorch_model.bin\n",
      "All model checkpoint weights were used when initializing BertForSequenceClassification.\n",
      "\n",
      "All the weights of BertForSequenceClassification were initialized from the model checkpoint at bert-teacher-saying-classifier.\n",
      "If your task is similar to the task the model of the checkpoint was trained on, you can already use BertForSequenceClassification for predictions without further training.\n",
      "Didn't find file bert-teacher-saying-classifier/added_tokens.json. We won't load it.\n",
      "loading file bert-teacher-saying-classifier/vocab.txt\n",
      "loading file bert-teacher-saying-classifier/tokenizer.json\n",
      "loading file None\n",
      "loading file bert-teacher-saying-classifier/special_tokens_map.json\n",
      "loading file bert-teacher-saying-classifier/tokenizer_config.json\n"
     ]
    }
   ],
   "source": [
    "trainer.save_model('bert-teacher-saying-classifier')\n",
    "teacher_classifier = pipeline('text-classification', model='bert-teacher-saying-classifier')"
   ]
  },
  {
   "cell_type": "markdown",
   "metadata": {},
   "source": [
    "# Confusion Matrix using validation dataset"
   ]
  },
  {
   "cell_type": "markdown",
   "metadata": {},
   "source": [
    "Above, we used training dataset to train the model. From here, we are going to use only the validation dataset to see how accurate our model's predictions are."
   ]
  },
  {
   "cell_type": "code",
   "execution_count": 26,
   "metadata": {
    "scrolled": true
   },
   "outputs": [],
   "source": [
    "# Predict labels of validation dataset\n",
    "val_pred = teacher_classifier(val_text)\n",
    "# Convert list into dataframe\n",
    "val_pred_df = pd.DataFrame(val_pred)\n",
    "# Change the column's name (label -> predict)\n",
    "val_pred_df.rename(columns = {'label':'predict'}, inplace = True)"
   ]
  },
  {
   "cell_type": "markdown",
   "metadata": {},
   "source": [
    "Now we can see each speech's predicted result by our model and actual label. \"score\" refers to confidence level. The higher the score is, the more confident our model has about it's prediction."
   ]
  },
  {
   "cell_type": "code",
   "execution_count": 27,
   "metadata": {},
   "outputs": [
    {
     "data": {
      "text/html": [
       "<div>\n",
       "<style scoped>\n",
       "    .dataframe tbody tr th:only-of-type {\n",
       "        vertical-align: middle;\n",
       "    }\n",
       "\n",
       "    .dataframe tbody tr th {\n",
       "        vertical-align: top;\n",
       "    }\n",
       "\n",
       "    .dataframe thead th {\n",
       "        text-align: right;\n",
       "    }\n",
       "</style>\n",
       "<table border=\"1\" class=\"dataframe\">\n",
       "  <thead>\n",
       "    <tr style=\"text-align: right;\">\n",
       "      <th></th>\n",
       "      <th>id</th>\n",
       "      <th>start_timestamp</th>\n",
       "      <th>end_timestamp</th>\n",
       "      <th>speech</th>\n",
       "      <th>label</th>\n",
       "      <th>predict</th>\n",
       "      <th>score</th>\n",
       "    </tr>\n",
       "  </thead>\n",
       "  <tbody>\n",
       "    <tr>\n",
       "      <th>0</th>\n",
       "      <td>251-2</td>\n",
       "      <td>00:01:33.15</td>\n",
       "      <td>00:03:26.16</td>\n",
       "      <td>you can think of one.</td>\n",
       "      <td>NEU</td>\n",
       "      <td>NEU</td>\n",
       "      <td>0.985349</td>\n",
       "    </tr>\n",
       "    <tr>\n",
       "      <th>1</th>\n",
       "      <td>046-1</td>\n",
       "      <td>00:01:52.06</td>\n",
       "      <td>00:02:32.04</td>\n",
       "      <td>she can't play jokes like character can can she.</td>\n",
       "      <td>OTR</td>\n",
       "      <td>OTR</td>\n",
       "      <td>0.967072</td>\n",
       "    </tr>\n",
       "    <tr>\n",
       "      <th>2</th>\n",
       "      <td>264-3</td>\n",
       "      <td>00:00:00.00</td>\n",
       "      <td>00:02:20.25</td>\n",
       "      <td>{shh}.</td>\n",
       "      <td>REP</td>\n",
       "      <td>REP</td>\n",
       "      <td>0.960794</td>\n",
       "    </tr>\n",
       "    <tr>\n",
       "      <th>3</th>\n",
       "      <td>251-2</td>\n",
       "      <td>00:01:33.15</td>\n",
       "      <td>00:03:26.16</td>\n",
       "      <td>how do you know surfing?</td>\n",
       "      <td>OTR</td>\n",
       "      <td>OTR</td>\n",
       "      <td>0.983423</td>\n",
       "    </tr>\n",
       "    <tr>\n",
       "      <th>4</th>\n",
       "      <td>083-3</td>\n",
       "      <td>00:03:59.23</td>\n",
       "      <td>00:06:36.02</td>\n",
       "      <td>bravely.</td>\n",
       "      <td>OTR</td>\n",
       "      <td>OTR</td>\n",
       "      <td>0.985749</td>\n",
       "    </tr>\n",
       "  </tbody>\n",
       "</table>\n",
       "</div>"
      ],
      "text/plain": [
       "      id start_timestamp end_timestamp  \\\n",
       "0  251-2     00:01:33.15   00:03:26.16   \n",
       "1  046-1     00:01:52.06   00:02:32.04   \n",
       "2  264-3     00:00:00.00   00:02:20.25   \n",
       "3  251-2     00:01:33.15   00:03:26.16   \n",
       "4  083-3     00:03:59.23   00:06:36.02   \n",
       "\n",
       "                                             speech label predict     score  \n",
       "0                             you can think of one.   NEU     NEU  0.985349  \n",
       "1  she can't play jokes like character can can she.   OTR     OTR  0.967072  \n",
       "2                                            {shh}.   REP     REP  0.960794  \n",
       "3                          how do you know surfing?   OTR     OTR  0.983423  \n",
       "4                                          bravely.   OTR     OTR  0.985749  "
      ]
     },
     "execution_count": 27,
     "metadata": {},
     "output_type": "execute_result"
    }
   ],
   "source": [
    "# Get the true label and speech\n",
    "val_true = data[data.split == 2][[\"id\", \"start_timestamp\", \"end_timestamp\", \"speech\", \"label\"]]\n",
    "val_true.reset_index(inplace = True, drop = True)\n",
    "\n",
    "# Combine two dataframe\n",
    "val_final_df = pd.concat([val_true, val_pred_df], axis = 1)\n",
    "val_final_df.head()"
   ]
  },
  {
   "cell_type": "markdown",
   "metadata": {},
   "source": [
    "Now let's create a confusion matrix using predicted labels and actual labels."
   ]
  },
  {
   "cell_type": "code",
   "execution_count": 28,
   "metadata": {},
   "outputs": [],
   "source": [
    "c_ma = confusion_matrix(val_final_df['label'], val_final_df['predict'], labels = train_classes)"
   ]
  },
  {
   "cell_type": "code",
   "execution_count": 29,
   "metadata": {},
   "outputs": [
    {
     "data": {
      "text/html": [
       "<div>\n",
       "<style scoped>\n",
       "    .dataframe tbody tr th:only-of-type {\n",
       "        vertical-align: middle;\n",
       "    }\n",
       "\n",
       "    .dataframe tbody tr th {\n",
       "        vertical-align: top;\n",
       "    }\n",
       "\n",
       "    .dataframe thead th {\n",
       "        text-align: right;\n",
       "    }\n",
       "</style>\n",
       "<table border=\"1\" class=\"dataframe\">\n",
       "  <thead>\n",
       "    <tr style=\"text-align: right;\">\n",
       "      <th>Predicted Labels</th>\n",
       "      <th>praise</th>\n",
       "      <th>reprimand</th>\n",
       "      <th>neutral</th>\n",
       "      <th>opportunity to respond</th>\n",
       "    </tr>\n",
       "    <tr>\n",
       "      <th>Actual Labels</th>\n",
       "      <th></th>\n",
       "      <th></th>\n",
       "      <th></th>\n",
       "      <th></th>\n",
       "    </tr>\n",
       "  </thead>\n",
       "  <tbody>\n",
       "    <tr>\n",
       "      <th>praise</th>\n",
       "      <td>163</td>\n",
       "      <td>0</td>\n",
       "      <td>8</td>\n",
       "      <td>1</td>\n",
       "    </tr>\n",
       "    <tr>\n",
       "      <th>reprimand</th>\n",
       "      <td>1</td>\n",
       "      <td>38</td>\n",
       "      <td>11</td>\n",
       "      <td>1</td>\n",
       "    </tr>\n",
       "    <tr>\n",
       "      <th>neutral</th>\n",
       "      <td>13</td>\n",
       "      <td>6</td>\n",
       "      <td>756</td>\n",
       "      <td>34</td>\n",
       "    </tr>\n",
       "    <tr>\n",
       "      <th>opportunity to respond</th>\n",
       "      <td>1</td>\n",
       "      <td>0</td>\n",
       "      <td>26</td>\n",
       "      <td>342</td>\n",
       "    </tr>\n",
       "  </tbody>\n",
       "</table>\n",
       "</div>"
      ],
      "text/plain": [
       "Predicted Labels        praise  reprimand  neutral  opportunity to respond\n",
       "Actual Labels                                                             \n",
       "praise                     163          0        8                       1\n",
       "reprimand                    1         38       11                       1\n",
       "neutral                     13          6      756                      34\n",
       "opportunity to respond       1          0       26                     342"
      ]
     },
     "execution_count": 29,
     "metadata": {},
     "output_type": "execute_result"
    }
   ],
   "source": [
    "c_df = pd.DataFrame(c_ma,\n",
    "                    columns = train_classes,\n",
    "                    index = train_classes)\n",
    "\n",
    "#use reverse lookup table from above to use the actual labels that we assigned for zero shot\n",
    "c_df.rename(columns=rev_labels_lookup, index=rev_labels_lookup, inplace=True)\n",
    "\n",
    "#add axis labels for seaborn\n",
    "c_df.index.name = 'Actual Labels'\n",
    "c_df.columns.name = 'Predicted Labels'\n",
    "\n",
    "#inspect\n",
    "c_df"
   ]
  },
  {
   "cell_type": "markdown",
   "metadata": {},
   "source": [
    "In order to increase readability, let's use color to express this table. "
   ]
  },
  {
   "cell_type": "code",
   "execution_count": 30,
   "metadata": {},
   "outputs": [
    {
     "data": {
      "image/png": "[encoded data removed]",
      "text/plain": [
       "<Figure size 432x288 with 2 Axes>"
      ]
     },
     "metadata": {
      "needs_background": "light"
     },
     "output_type": "display_data"
    }
   ],
   "source": [
    "#use seaborne to display as heatmap\n",
    "ax = sns.heatmap(c_df, cmap='Blues', annot=True, fmt='d');\n",
    "ax.set_xticklabels(ax.get_xticklabels(),rotation = 45);\n",
    "ax.set_yticklabels(ax.get_yticklabels(),rotation = 45);"
   ]
  },
  {
   "cell_type": "markdown",
   "metadata": {},
   "source": [
    "The x-axis shows the predicted labels and the y-axis shows the actual labels. \n",
    "\n",
    "Let's inspect this confusion matrix:\n",
    "- This fine-tuned model did a quite good job to classify labels. Diagonal line from the right bottom to left top is the number of speech classfied correctly. We can see that most of speech belongs to this area.\n",
    "- Among the misclassified area, the highest number is 34. This is when \"neutral\" speech is classified as \"opportunity to respond\". The second highest number is 26 and this is when \"opportunity to respond\" speech is classified as \"neutral\". These two situations show that our model is confused with \"neutral\" and \"opportunity to respond\" the most."
   ]
  },
  {
   "cell_type": "markdown",
   "metadata": {},
   "source": [
    "Great steps to improve from here include:\n",
    "- In the dataset, the number of \"neutral\" speech outweigh that of other speechs. It would be better to train a model to discern between neutral and other classes first and then classify other labels.\n",
    "- We can consider setting a specific cutoff number to decide if it is either \"OTR\" or \"NEU\". For example, if the probability is more than the cutoff number, then the prediction will be \"OTR\". Even if our model predicts a speech as \"OTR\", but the probability is lower than the cutoff number, the model should predict it as \"NEU\"."
   ]
  },
  {
   "cell_type": "markdown",
   "metadata": {},
   "source": [
    "# Evaluate Performance Using Classification Report\n",
    "\n",
    "Here, we'll just use the classification report function from sklearn. This will return the precision (positive predictive value), recall (sensitivity), and f1 score (harmonic mean of precision and recall) and accuracy."
   ]
  },
  {
   "cell_type": "code",
   "execution_count": 36,
   "metadata": {},
   "outputs": [
    {
     "name": "stdout",
     "output_type": "stream",
     "text": [
      "                        precision    recall  f1-score   support\n",
      "\n",
      "                praise       0.92      0.95      0.93       172\n",
      "             reprimand       0.86      0.75      0.80        51\n",
      "               neutral       0.94      0.93      0.94       809\n",
      "opportunity to respond       0.90      0.93      0.92       369\n",
      "\n",
      "              accuracy                           0.93      1401\n",
      "             macro avg       0.91      0.89      0.90      1401\n",
      "          weighted avg       0.93      0.93      0.93      1401\n",
      "\n"
     ]
    }
   ],
   "source": [
    "perf_metrics = classification_report(val_final_df.dropna()['label'], val_final_df.dropna()['predict'], labels=train_classes, target_names = formal_labels)\n",
    "print(perf_metrics)"
   ]
  },
  {
   "cell_type": "markdown",
   "metadata": {},
   "source": [
    "- Compared to other labels, 'reprimand' shows a low sensitivity. While other label's sensitivity is more than 0.9, that of 'reprimand' is 0.75. When we go back to the confusion matrix, there are 51 reprimand speech in the validation dataset. Among them, only 38 is correctly discerned, while 11s are misclassified as \"NEU\".\n",
    "- This model's accuracy is 93%. In the 90 notebook, when we used \"facebook/bart-large-mnli\" model, the accuracy was 47%. When we used \"typeform/distilbert-base-uncased-mnli\" model in 93 notebook, the accuracy was 32%. Compared to these results from other models, this fine-tuned shows a really high accuracy. We can say that the process of fine-tuning improved the performance of a model."
   ]
  },
  {
   "cell_type": "markdown",
   "metadata": {},
   "source": [
    "# Examine validation dataset's misclassification"
   ]
  },
  {
   "cell_type": "markdown",
   "metadata": {},
   "source": [
    "Now let's focus on misclassified speech. The outcome below shows the misclassified dataset."
   ]
  },
  {
   "cell_type": "code",
   "execution_count": 32,
   "metadata": {},
   "outputs": [],
   "source": [
    "# misclassfication\n",
    "val_error = val_final_df[val_final_df.label != val_final_df.predict]\n",
    "val_error = val_error.sort_values(by = 'score', ascending = False)\n",
    "#val_error.to_csv(\"val_error.csv\", index = False)"
   ]
  },
  {
   "cell_type": "code",
   "execution_count": 41,
   "metadata": {
    "scrolled": true
   },
   "outputs": [
    {
     "data": {
      "text/html": [
       "<div>\n",
       "<style scoped>\n",
       "    .dataframe tbody tr th:only-of-type {\n",
       "        vertical-align: middle;\n",
       "    }\n",
       "\n",
       "    .dataframe tbody tr th {\n",
       "        vertical-align: top;\n",
       "    }\n",
       "\n",
       "    .dataframe thead th {\n",
       "        text-align: right;\n",
       "    }\n",
       "</style>\n",
       "<table border=\"1\" class=\"dataframe\">\n",
       "  <thead>\n",
       "    <tr style=\"text-align: right;\">\n",
       "      <th></th>\n",
       "      <th>id</th>\n",
       "      <th>start_timestamp</th>\n",
       "      <th>end_timestamp</th>\n",
       "      <th>speech</th>\n",
       "      <th>label</th>\n",
       "      <th>predict</th>\n",
       "      <th>score</th>\n",
       "    </tr>\n",
       "  </thead>\n",
       "  <tbody>\n",
       "    <tr>\n",
       "      <th>685</th>\n",
       "      <td>108-2</td>\n",
       "      <td>00:07:39.24</td>\n",
       "      <td>00:10:01.08</td>\n",
       "      <td>they're ready for the day (th*) to continue.</td>\n",
       "      <td>PRS</td>\n",
       "      <td>NEU</td>\n",
       "      <td>0.998124</td>\n",
       "    </tr>\n",
       "    <tr>\n",
       "      <th>869</th>\n",
       "      <td>123-2</td>\n",
       "      <td>00:04:09.21</td>\n",
       "      <td>00:05:42.00</td>\n",
       "      <td>so (everybody sai*) everybody agreed that it w...</td>\n",
       "      <td>OTR</td>\n",
       "      <td>NEU</td>\n",
       "      <td>0.997607</td>\n",
       "    </tr>\n",
       "    <tr>\n",
       "      <th>237</th>\n",
       "      <td>088-1</td>\n",
       "      <td>00:02:51.00</td>\n",
       "      <td>00:04:09.17</td>\n",
       "      <td>now let's think about where this story took pl...</td>\n",
       "      <td>OTR</td>\n",
       "      <td>NEU</td>\n",
       "      <td>0.997555</td>\n",
       "    </tr>\n",
       "    <tr>\n",
       "      <th>1253</th>\n",
       "      <td>254-1</td>\n",
       "      <td>00:01:21.04</td>\n",
       "      <td>00:02:00.10</td>\n",
       "      <td>excellent thoughts from all three of you guys.</td>\n",
       "      <td>OTR</td>\n",
       "      <td>PRS</td>\n",
       "      <td>0.996845</td>\n",
       "    </tr>\n",
       "    <tr>\n",
       "      <th>807</th>\n",
       "      <td>083-1</td>\n",
       "      <td>00:03:23.24</td>\n",
       "      <td>00:05:58.22</td>\n",
       "      <td>(now) see you can do it faster.</td>\n",
       "      <td>PRS</td>\n",
       "      <td>NEU</td>\n",
       "      <td>0.995130</td>\n",
       "    </tr>\n",
       "    <tr>\n",
       "      <th>225</th>\n",
       "      <td>273-2</td>\n",
       "      <td>00:08:23.00</td>\n",
       "      <td>00:09:09.08</td>\n",
       "      <td>person place.</td>\n",
       "      <td>OTR</td>\n",
       "      <td>NEU</td>\n",
       "      <td>0.994964</td>\n",
       "    </tr>\n",
       "    <tr>\n",
       "      <th>1023</th>\n",
       "      <td>254-1</td>\n",
       "      <td>00:05:18.21</td>\n",
       "      <td>00:06:34.00</td>\n",
       "      <td>(what else) what else can we guess.</td>\n",
       "      <td>PRS</td>\n",
       "      <td>OTR</td>\n",
       "      <td>0.992825</td>\n",
       "    </tr>\n",
       "    <tr>\n",
       "      <th>694</th>\n",
       "      <td>116-1</td>\n",
       "      <td>00:02:26.25</td>\n",
       "      <td>00:03:20.08</td>\n",
       "      <td>let's do our character.</td>\n",
       "      <td>OTR</td>\n",
       "      <td>NEU</td>\n",
       "      <td>0.991830</td>\n",
       "    </tr>\n",
       "    <tr>\n",
       "      <th>771</th>\n",
       "      <td>123-1</td>\n",
       "      <td>00:00:00.00</td>\n",
       "      <td>00:02:10.25</td>\n",
       "      <td>what?</td>\n",
       "      <td>NEU</td>\n",
       "      <td>OTR</td>\n",
       "      <td>0.991740</td>\n",
       "    </tr>\n",
       "    <tr>\n",
       "      <th>1335</th>\n",
       "      <td>107-3</td>\n",
       "      <td>00:00:00.00</td>\n",
       "      <td>00:02:12.05</td>\n",
       "      <td>oh yeah?</td>\n",
       "      <td>OTR</td>\n",
       "      <td>NEU</td>\n",
       "      <td>0.991722</td>\n",
       "    </tr>\n",
       "  </tbody>\n",
       "</table>\n",
       "</div>"
      ],
      "text/plain": [
       "         id start_timestamp end_timestamp  \\\n",
       "685   108-2     00:07:39.24   00:10:01.08   \n",
       "869   123-2     00:04:09.21   00:05:42.00   \n",
       "237   088-1     00:02:51.00   00:04:09.17   \n",
       "1253  254-1     00:01:21.04   00:02:00.10   \n",
       "807   083-1     00:03:23.24   00:05:58.22   \n",
       "225   273-2     00:08:23.00   00:09:09.08   \n",
       "1023  254-1     00:05:18.21   00:06:34.00   \n",
       "694   116-1     00:02:26.25   00:03:20.08   \n",
       "771   123-1     00:00:00.00   00:02:10.25   \n",
       "1335  107-3     00:00:00.00   00:02:12.05   \n",
       "\n",
       "                                                 speech label predict  \\\n",
       "685        they're ready for the day (th*) to continue.   PRS     NEU   \n",
       "869   so (everybody sai*) everybody agreed that it w...   OTR     NEU   \n",
       "237   now let's think about where this story took pl...   OTR     NEU   \n",
       "1253     excellent thoughts from all three of you guys.   OTR     PRS   \n",
       "807                     (now) see you can do it faster.   PRS     NEU   \n",
       "225                                       person place.   OTR     NEU   \n",
       "1023                (what else) what else can we guess.   PRS     OTR   \n",
       "694                             let's do our character.   OTR     NEU   \n",
       "771                                               what?   NEU     OTR   \n",
       "1335                                           oh yeah?   OTR     NEU   \n",
       "\n",
       "         score  \n",
       "685   0.998124  \n",
       "869   0.997607  \n",
       "237   0.997555  \n",
       "1253  0.996845  \n",
       "807   0.995130  \n",
       "225   0.994964  \n",
       "1023  0.992825  \n",
       "694   0.991830  \n",
       "771   0.991740  \n",
       "1335  0.991722  "
      ]
     },
     "execution_count": 41,
     "metadata": {},
     "output_type": "execute_result"
    }
   ],
   "source": [
    "val_error.head(10)"
   ]
  },
  {
   "cell_type": "markdown",
   "metadata": {},
   "source": [
    "After examinig the misclassified dataset, I realized that there are some speech of which actual \"label\" is wrong. This means when people manually gave groundtruth label to speech lines, they made a mistake to some speech lines. \n",
    "\n",
    "When you look at a speech with index 1253 in the dataset above, the label is \"OTR\", even though the speech \"excellent thoughts from all three of you guys.\" is absolutely \"PRS\", which is \"praise\". Our model predicted this speech as \"PRS\", which I think it is correct. There are more examples of these \"wrong\" labels, which our model predicts, I think, correctly. For this reason, we should look at our misclassified data and increase the quality of the raw data, by correcting some labels while listening the audio files."
   ]
  }
 ],
 "metadata": {
  "kernelspec": {
   "display_name": "Python 3",
   "language": "python",
   "name": "python3"
  },
  "language_info": {
   "codemirror_mode": {
    "name": "ipython",
    "version": 3
   },
   "file_extension": ".py",
   "mimetype": "text/x-python",
   "name": "python",
   "nbconvert_exporter": "python",
   "pygments_lexer": "ipython3",
   "version": "3.8.3"
  }
 },
 "nbformat": 4,
 "nbformat_minor": 5
}
