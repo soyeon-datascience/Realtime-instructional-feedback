{
 "cells": [
  {
   "cell_type": "markdown",
   "id": "b17e5902-c0b6-4b8f-8e59-22bc4164a3d5",
   "metadata": {},
   "source": [
    "# 11-process-audio\n",
    "> Getting audio files in the correct format\n",
    "\n",
    "In this notebook, we evaluate the state of the audio files and get them into a correct format if necessary.  This code is based on the findings of [26-transcribe-audio.ipynb](https://github.com/vanderbilt-data-science/wise/blob/26-transcribe-audio-files/26-transcribe-audio.ipynb) at commit `df09abc`. \n",
    "\n",
    "Note that our objective here is to use the `wav2vec2` or a similar audio transformer model.  In looking at the documentation for the `wav2vec2` model we'll use (e.g., here: https://huggingface.co/facebook/wav2vec2-base-960h ), the first requirement is that our wave file has to have a sampling rate of 16KHz.  This notebook is created in pursuit of getting the audio in the correct format and making sure the functionality we need is provided.\n",
    "\n",
    "**To regenerate the resampled audio files**:\n",
    "Our resampled audio files are stored under `cleaned_data/resampled_audio_16khz`.  To regenerate these, see the final code notebook in the cell and uncomment it.  This will regenerate all of the files."
   ]
  },
  {
   "cell_type": "code",
   "execution_count": null,
   "id": "8dcd8841-d498-4cc9-85a6-d14678f98c88",
   "metadata": {},
   "outputs": [],
   "source": [
    "#all_no_test\n",
    "#modeling packages\n",
    "import soundfile as sf\n",
    "import torch\n",
    "import librosa\n",
    "\n",
    "#data science packages\n",
    "import pandas as pd\n",
    "import numpy as np\n",
    "\n",
    "#other python packages\n",
    "import os.path\n",
    "import glob"
   ]
  },
  {
   "cell_type": "markdown",
   "id": "250fe5c2-66fd-46f4-b17b-8829a09553a0",
   "metadata": {},
   "source": [
    "# Load data\n",
    "Here, we'll just obtain the list of audio files by using `glob` to list the contents of the file.  We won't load the actual audio yet until we have to since the data is non-trivially sized."
   ]
  },
  {
   "cell_type": "code",
   "execution_count": null,
   "id": "16da76eb-39bf-4562-afbe-afbd45d8810e",
   "metadata": {},
   "outputs": [],
   "source": [
    "#File constants\n",
    "base_prefix = os.path.expanduser('~/Box/DSI Documents/')\n",
    "audio_files_prefix = base_prefix + 'Audio Files & Tanscripts/Audio Files/' "
   ]
  },
  {
   "cell_type": "code",
   "execution_count": null,
   "id": "91d72ddd-9faa-4553-8031-d339871c2331",
   "metadata": {},
   "outputs": [
    {
     "name": "stdout",
     "output_type": "stream",
     "text": [
      "Number of audio files available: 109\n"
     ]
    },
    {
     "data": {
      "text/plain": [
       "['C:\\\\Users\\\\bellcs1/Box/DSI Documents/Audio Files & Tanscripts/Audio Files\\\\008-1.wav',\n",
       " 'C:\\\\Users\\\\bellcs1/Box/DSI Documents/Audio Files & Tanscripts/Audio Files\\\\008-2.wav',\n",
       " 'C:\\\\Users\\\\bellcs1/Box/DSI Documents/Audio Files & Tanscripts/Audio Files\\\\008-3.wav']"
      ]
     },
     "execution_count": null,
     "metadata": {},
     "output_type": "execute_result"
    }
   ],
   "source": [
    "#get list of audio files\n",
    "audio_files_list = glob.glob(audio_files_prefix + '*.wav') + glob.glob(audio_files_prefix + '*.mp3')\n",
    "\n",
    "#print info about them\n",
    "print('Number of audio files available:', len(audio_files_list))\n",
    "audio_files_list[:3]"
   ]
  },
  {
   "cell_type": "markdown",
   "id": "dfa4eb24-a7d1-4e77-9338-3fad6d57c8c1",
   "metadata": {},
   "source": [
    "# Check the sampling rate\n",
    "Here, we'll check the sampling rate of all of the audio files and see if we need to fix any.  Again, keep in mind that the sampling rate that we want is 16KHz."
   ]
  },
  {
   "cell_type": "markdown",
   "id": "32d38789-915d-40a7-87d1-9d1045e2c001",
   "metadata": {},
   "source": [
    "Note that the following code will fail with `NoBackendError` if we read something other than `.wav` files (e.g., `.mp3` files.  For the following to work, you may need to run `conda install -c conda-forge ffmpeg` to get the mp3 backend."
   ]
  },
  {
   "cell_type": "code",
   "execution_count": null,
   "id": "51887f73-e46e-4aa7-a36a-f41b0473ed52",
   "metadata": {},
   "outputs": [],
   "source": [
    "#get sampling rates (see above if you get an error here)\n",
    "sampling_rates = [librosa.get_samplerate(audio_file) for audio_file in audio_files_list]"
   ]
  },
  {
   "cell_type": "code",
   "execution_count": null,
   "id": "ca5f3917-5d44-489b-b091-0bc5779d5414",
   "metadata": {},
   "outputs": [
    {
     "data": {
      "text/plain": [
       "44100    74\n",
       "11025    28\n",
       "22050     7\n",
       "Name: sampling_rate, dtype: int64"
      ]
     },
     "execution_count": null,
     "metadata": {},
     "output_type": "execute_result"
    }
   ],
   "source": [
    "#make into a pandas array just because simplicity\n",
    "audio_details = pd.DataFrame({'file_id': [audio_file.split('\\\\')[-1] for audio_file in audio_files_list],\n",
    "                              'sampling_rate': sampling_rates,\n",
    "                              'file_path': audio_files_list})\n",
    "\n",
    "#get value counts for the samplings rates\n",
    "audio_details['sampling_rate'].value_counts()"
   ]
  },
  {
   "cell_type": "markdown",
   "id": "93f70daf-4135-4668-8186-bb528390fb95",
   "metadata": {},
   "source": [
    "Wow, fantastic.  It looks like we have a sampling rate of every and anything other than 16KHz.  No problem - we'll resample using `librosa` and write these files back to the `cleaned_data` directory."
   ]
  },
  {
   "cell_type": "markdown",
   "id": "42b7b7a3-49ac-40bb-af02-7c94842ff1e0",
   "metadata": {},
   "source": [
    "# Resample and Save Audio\n",
    "Given the above, we need to resample the audio to 16KHz and save it to this new location.  We'll put it in `cleaned_data/resampled_audio_16khz`.  The filenames will be the same.  As shown in the prior commit, we can use the librosa `load` function for resampling.\n",
    "\n",
    "Note:  This does **NOT** take a short amount of time!  Each resampling is about 30 seconds."
   ]
  },
  {
   "cell_type": "code",
   "execution_count": null,
   "id": "07d4bc33-604d-4c09-ba85-c582a304e15c",
   "metadata": {},
   "outputs": [],
   "source": [
    "#constants\n",
    "sampling_rate = 16000\n",
    "resampled_audio_base = base_prefix + 'cleaned_data/resampled_audio_16khz/'"
   ]
  },
  {
   "cell_type": "code",
   "execution_count": null,
   "id": "7a265ada-77c7-4682-babc-bf37f5604d1e",
   "metadata": {},
   "outputs": [],
   "source": [
    "#A function to do the resampling and saving\n",
    "def resample_save(audio_fpath, sample_rate, save_directory, verbose=False):\n",
    "    \n",
    "    #resample while loading\n",
    "    audio_signal, sr = librosa.load(audio_fpath, sample_rate)\n",
    "    \n",
    "    #create name of file\n",
    "    fname = audio_fpath.split('\\\\')[-1] #returns 008-1.wav or similar\n",
    "    fname = fname.split('.')[0] + '.wav' #make sure it is saved as a wave file\n",
    "    \n",
    "    #save file\n",
    "    sf.write(save_directory + fname, audio_signal, samplerate=sample_rate, format='WAV')\n",
    "    if verbose:\n",
    "        print('Saving', save_directory + fname, 'done.')\n",
    "    \n",
    "    return fname, save_directory + fname, sr"
   ]
  },
  {
   "cell_type": "code",
   "execution_count": null,
   "id": "a29e4cad-8d6c-4d5e-92a3-f5fcdd39d93c",
   "metadata": {},
   "outputs": [
    {
     "name": "stdout",
     "output_type": "stream",
     "text": [
      "Saving C:\\Users\\bellcs1/Box/DSI Documents/cleaned_data/resampled_audio_16khz/008-1.wav done.\n",
      "Saving C:\\Users\\bellcs1/Box/DSI Documents/cleaned_data/resampled_audio_16khz/008-2.wav done.\n",
      "Saving C:\\Users\\bellcs1/Box/DSI Documents/cleaned_data/resampled_audio_16khz/008-3.wav done.\n",
      "Saving C:\\Users\\bellcs1/Box/DSI Documents/cleaned_data/resampled_audio_16khz/027-1.wav done.\n",
      "Saving C:\\Users\\bellcs1/Box/DSI Documents/cleaned_data/resampled_audio_16khz/027-2.wav done.\n",
      "Saving C:\\Users\\bellcs1/Box/DSI Documents/cleaned_data/resampled_audio_16khz/027-3.wav done.\n",
      "Saving C:\\Users\\bellcs1/Box/DSI Documents/cleaned_data/resampled_audio_16khz/038-2.wav done.\n",
      "Saving C:\\Users\\bellcs1/Box/DSI Documents/cleaned_data/resampled_audio_16khz/038-3.wav done.\n",
      "Saving C:\\Users\\bellcs1/Box/DSI Documents/cleaned_data/resampled_audio_16khz/038-4.wav done.\n",
      "Saving C:\\Users\\bellcs1/Box/DSI Documents/cleaned_data/resampled_audio_16khz/046-1.wav done.\n",
      "Saving C:\\Users\\bellcs1/Box/DSI Documents/cleaned_data/resampled_audio_16khz/046-2.wav done.\n",
      "Saving C:\\Users\\bellcs1/Box/DSI Documents/cleaned_data/resampled_audio_16khz/046-3.wav done.\n",
      "Saving C:\\Users\\bellcs1/Box/DSI Documents/cleaned_data/resampled_audio_16khz/051 -1.wav done.\n",
      "Saving C:\\Users\\bellcs1/Box/DSI Documents/cleaned_data/resampled_audio_16khz/051-1.wav done.\n",
      "Saving C:\\Users\\bellcs1/Box/DSI Documents/cleaned_data/resampled_audio_16khz/051-3.wav done.\n",
      "Saving C:\\Users\\bellcs1/Box/DSI Documents/cleaned_data/resampled_audio_16khz/051-4a.wav done.\n",
      "Saving C:\\Users\\bellcs1/Box/DSI Documents/cleaned_data/resampled_audio_16khz/051-4b.wav done.\n",
      "Saving C:\\Users\\bellcs1/Box/DSI Documents/cleaned_data/resampled_audio_16khz/053-1.wav done.\n",
      "Saving C:\\Users\\bellcs1/Box/DSI Documents/cleaned_data/resampled_audio_16khz/053-3.wav done.\n",
      "Saving C:\\Users\\bellcs1/Box/DSI Documents/cleaned_data/resampled_audio_16khz/055-2.wav done.\n",
      "Saving C:\\Users\\bellcs1/Box/DSI Documents/cleaned_data/resampled_audio_16khz/055-3.wav done.\n",
      "Saving C:\\Users\\bellcs1/Box/DSI Documents/cleaned_data/resampled_audio_16khz/058-1.wav done.\n",
      "Saving C:\\Users\\bellcs1/Box/DSI Documents/cleaned_data/resampled_audio_16khz/058-2.wav done.\n",
      "Saving C:\\Users\\bellcs1/Box/DSI Documents/cleaned_data/resampled_audio_16khz/058-3.wav done.\n",
      "Saving C:\\Users\\bellcs1/Box/DSI Documents/cleaned_data/resampled_audio_16khz/058-4.wav done.\n",
      "Saving C:\\Users\\bellcs1/Box/DSI Documents/cleaned_data/resampled_audio_16khz/083-2.wav done.\n",
      "Saving C:\\Users\\bellcs1/Box/DSI Documents/cleaned_data/resampled_audio_16khz/083-3.wav done.\n",
      "Saving C:\\Users\\bellcs1/Box/DSI Documents/cleaned_data/resampled_audio_16khz/083-4.wav done.\n"
     ]
    },
    {
     "name": "stderr",
     "output_type": "stream",
     "text": [
      "C:\\Users\\bellcs1\\AppData\\Local\\Continuum\\anaconda3\\envs\\dl-transformer\\lib\\site-packages\\librosa\\core\\audio.py:165: UserWarning: PySoundFile failed. Trying audioread instead.\n",
      "  warnings.warn(\"PySoundFile failed. Trying audioread instead.\")\n"
     ]
    },
    {
     "name": "stdout",
     "output_type": "stream",
     "text": [
      "Saving C:\\Users\\bellcs1/Box/DSI Documents/cleaned_data/resampled_audio_16khz/088-1a.wav done.\n",
      "Saving C:\\Users\\bellcs1/Box/DSI Documents/cleaned_data/resampled_audio_16khz/088-1b.wav done.\n",
      "Saving C:\\Users\\bellcs1/Box/DSI Documents/cleaned_data/resampled_audio_16khz/088-2.wav done.\n",
      "Saving C:\\Users\\bellcs1/Box/DSI Documents/cleaned_data/resampled_audio_16khz/088-3.wav done.\n",
      "Saving C:\\Users\\bellcs1/Box/DSI Documents/cleaned_data/resampled_audio_16khz/088-4.wav done.\n",
      "Saving C:\\Users\\bellcs1/Box/DSI Documents/cleaned_data/resampled_audio_16khz/105-1.wav done.\n",
      "Saving C:\\Users\\bellcs1/Box/DSI Documents/cleaned_data/resampled_audio_16khz/105-2.wav done.\n",
      "Saving C:\\Users\\bellcs1/Box/DSI Documents/cleaned_data/resampled_audio_16khz/105-3.wav done.\n",
      "Saving C:\\Users\\bellcs1/Box/DSI Documents/cleaned_data/resampled_audio_16khz/105-4.wav done.\n",
      "Saving C:\\Users\\bellcs1/Box/DSI Documents/cleaned_data/resampled_audio_16khz/107-1.wav done.\n",
      "Saving C:\\Users\\bellcs1/Box/DSI Documents/cleaned_data/resampled_audio_16khz/107-2.wav done.\n",
      "Saving C:\\Users\\bellcs1/Box/DSI Documents/cleaned_data/resampled_audio_16khz/107-3.wav done.\n",
      "Saving C:\\Users\\bellcs1/Box/DSI Documents/cleaned_data/resampled_audio_16khz/108-1.wav done.\n",
      "Saving C:\\Users\\bellcs1/Box/DSI Documents/cleaned_data/resampled_audio_16khz/108-2.wav done.\n",
      "Saving C:\\Users\\bellcs1/Box/DSI Documents/cleaned_data/resampled_audio_16khz/108-3.wav done.\n",
      "Saving C:\\Users\\bellcs1/Box/DSI Documents/cleaned_data/resampled_audio_16khz/109-1.wav done.\n",
      "Saving C:\\Users\\bellcs1/Box/DSI Documents/cleaned_data/resampled_audio_16khz/109-2.wav done.\n",
      "Saving C:\\Users\\bellcs1/Box/DSI Documents/cleaned_data/resampled_audio_16khz/109-3.wav done.\n",
      "Saving C:\\Users\\bellcs1/Box/DSI Documents/cleaned_data/resampled_audio_16khz/109-4a.wav done.\n",
      "Saving C:\\Users\\bellcs1/Box/DSI Documents/cleaned_data/resampled_audio_16khz/109-4b.wav done.\n",
      "Saving C:\\Users\\bellcs1/Box/DSI Documents/cleaned_data/resampled_audio_16khz/116-2.wav done.\n",
      "Saving C:\\Users\\bellcs1/Box/DSI Documents/cleaned_data/resampled_audio_16khz/116-3.wav done.\n",
      "Saving C:\\Users\\bellcs1/Box/DSI Documents/cleaned_data/resampled_audio_16khz/116-4.wav done.\n",
      "Saving C:\\Users\\bellcs1/Box/DSI Documents/cleaned_data/resampled_audio_16khz/120-1.wav done.\n",
      "Saving C:\\Users\\bellcs1/Box/DSI Documents/cleaned_data/resampled_audio_16khz/120-2.wav done.\n",
      "Saving C:\\Users\\bellcs1/Box/DSI Documents/cleaned_data/resampled_audio_16khz/120-3.wav done.\n",
      "Saving C:\\Users\\bellcs1/Box/DSI Documents/cleaned_data/resampled_audio_16khz/120-4.wav done.\n",
      "Saving C:\\Users\\bellcs1/Box/DSI Documents/cleaned_data/resampled_audio_16khz/123-1.wav done.\n",
      "Saving C:\\Users\\bellcs1/Box/DSI Documents/cleaned_data/resampled_audio_16khz/123-2.wav done.\n",
      "Saving C:\\Users\\bellcs1/Box/DSI Documents/cleaned_data/resampled_audio_16khz/123-3.wav done.\n",
      "Saving C:\\Users\\bellcs1/Box/DSI Documents/cleaned_data/resampled_audio_16khz/123-4.wav done.\n",
      "Saving C:\\Users\\bellcs1/Box/DSI Documents/cleaned_data/resampled_audio_16khz/129-1.wav done.\n",
      "Saving C:\\Users\\bellcs1/Box/DSI Documents/cleaned_data/resampled_audio_16khz/129-2.wav done.\n",
      "Saving C:\\Users\\bellcs1/Box/DSI Documents/cleaned_data/resampled_audio_16khz/129-3.wav done.\n",
      "Saving C:\\Users\\bellcs1/Box/DSI Documents/cleaned_data/resampled_audio_16khz/129-4a.wav done.\n",
      "Saving C:\\Users\\bellcs1/Box/DSI Documents/cleaned_data/resampled_audio_16khz/129-4b.wav done.\n",
      "Saving C:\\Users\\bellcs1/Box/DSI Documents/cleaned_data/resampled_audio_16khz/129-5.wav done.\n",
      "Saving C:\\Users\\bellcs1/Box/DSI Documents/cleaned_data/resampled_audio_16khz/130-1.wav done.\n",
      "Saving C:\\Users\\bellcs1/Box/DSI Documents/cleaned_data/resampled_audio_16khz/130-2.wav done.\n",
      "Saving C:\\Users\\bellcs1/Box/DSI Documents/cleaned_data/resampled_audio_16khz/130-3.wav done.\n",
      "Saving C:\\Users\\bellcs1/Box/DSI Documents/cleaned_data/resampled_audio_16khz/130-4.wav done.\n",
      "Saving C:\\Users\\bellcs1/Box/DSI Documents/cleaned_data/resampled_audio_16khz/131-1.wav done.\n",
      "Saving C:\\Users\\bellcs1/Box/DSI Documents/cleaned_data/resampled_audio_16khz/131-2.wav done.\n",
      "Saving C:\\Users\\bellcs1/Box/DSI Documents/cleaned_data/resampled_audio_16khz/131-3.wav done.\n",
      "Saving C:\\Users\\bellcs1/Box/DSI Documents/cleaned_data/resampled_audio_16khz/131-4.wav done.\n",
      "Saving C:\\Users\\bellcs1/Box/DSI Documents/cleaned_data/resampled_audio_16khz/134-1.wav done.\n",
      "Saving C:\\Users\\bellcs1/Box/DSI Documents/cleaned_data/resampled_audio_16khz/134-2.wav done.\n",
      "Saving C:\\Users\\bellcs1/Box/DSI Documents/cleaned_data/resampled_audio_16khz/134-3.wav done.\n",
      "Saving C:\\Users\\bellcs1/Box/DSI Documents/cleaned_data/resampled_audio_16khz/134-4.wav done.\n",
      "Saving C:\\Users\\bellcs1/Box/DSI Documents/cleaned_data/resampled_audio_16khz/135-1.wav done.\n",
      "Saving C:\\Users\\bellcs1/Box/DSI Documents/cleaned_data/resampled_audio_16khz/135-2.wav done.\n",
      "Saving C:\\Users\\bellcs1/Box/DSI Documents/cleaned_data/resampled_audio_16khz/135-3.wav done.\n",
      "Saving C:\\Users\\bellcs1/Box/DSI Documents/cleaned_data/resampled_audio_16khz/251-2.wav done.\n",
      "Saving C:\\Users\\bellcs1/Box/DSI Documents/cleaned_data/resampled_audio_16khz/251-3.wav done.\n",
      "Saving C:\\Users\\bellcs1/Box/DSI Documents/cleaned_data/resampled_audio_16khz/251-4.wav done.\n",
      "Saving C:\\Users\\bellcs1/Box/DSI Documents/cleaned_data/resampled_audio_16khz/252-1.wav done.\n",
      "Saving C:\\Users\\bellcs1/Box/DSI Documents/cleaned_data/resampled_audio_16khz/252-2.wav done.\n",
      "Saving C:\\Users\\bellcs1/Box/DSI Documents/cleaned_data/resampled_audio_16khz/252-3.wav done.\n",
      "Saving C:\\Users\\bellcs1/Box/DSI Documents/cleaned_data/resampled_audio_16khz/252-4.wav done.\n",
      "Saving C:\\Users\\bellcs1/Box/DSI Documents/cleaned_data/resampled_audio_16khz/254-2.wav done.\n",
      "Saving C:\\Users\\bellcs1/Box/DSI Documents/cleaned_data/resampled_audio_16khz/254-3.wav done.\n",
      "Saving C:\\Users\\bellcs1/Box/DSI Documents/cleaned_data/resampled_audio_16khz/254-4.wav done.\n",
      "Saving C:\\Users\\bellcs1/Box/DSI Documents/cleaned_data/resampled_audio_16khz/255-2.wav done.\n",
      "Saving C:\\Users\\bellcs1/Box/DSI Documents/cleaned_data/resampled_audio_16khz/255-3.wav done.\n",
      "Saving C:\\Users\\bellcs1/Box/DSI Documents/cleaned_data/resampled_audio_16khz/255-4.wav done.\n",
      "Saving C:\\Users\\bellcs1/Box/DSI Documents/cleaned_data/resampled_audio_16khz/264-1.wav done.\n",
      "Saving C:\\Users\\bellcs1/Box/DSI Documents/cleaned_data/resampled_audio_16khz/264-3.wav done.\n",
      "Saving C:\\Users\\bellcs1/Box/DSI Documents/cleaned_data/resampled_audio_16khz/264-4.wav done.\n",
      "Saving C:\\Users\\bellcs1/Box/DSI Documents/cleaned_data/resampled_audio_16khz/273-1.wav done.\n",
      "Saving C:\\Users\\bellcs1/Box/DSI Documents/cleaned_data/resampled_audio_16khz/273-2.wav done.\n",
      "Saving C:\\Users\\bellcs1/Box/DSI Documents/cleaned_data/resampled_audio_16khz/273-3.wav done.\n",
      "Saving C:\\Users\\bellcs1/Box/DSI Documents/cleaned_data/resampled_audio_16khz/273-4.wav done.\n",
      "Saving C:\\Users\\bellcs1/Box/DSI Documents/cleaned_data/resampled_audio_16khz/038-1.wav done.\n",
      "Saving C:\\Users\\bellcs1/Box/DSI Documents/cleaned_data/resampled_audio_16khz/053-2.wav done.\n",
      "Saving C:\\Users\\bellcs1/Box/DSI Documents/cleaned_data/resampled_audio_16khz/055-1.wav done.\n",
      "Saving C:\\Users\\bellcs1/Box/DSI Documents/cleaned_data/resampled_audio_16khz/083-1.wav done.\n",
      "Saving C:\\Users\\bellcs1/Box/DSI Documents/cleaned_data/resampled_audio_16khz/116-1.wav done.\n",
      "Saving C:\\Users\\bellcs1/Box/DSI Documents/cleaned_data/resampled_audio_16khz/251-1.wav done.\n",
      "Saving C:\\Users\\bellcs1/Box/DSI Documents/cleaned_data/resampled_audio_16khz/254-1.wav done.\n",
      "Saving C:\\Users\\bellcs1/Box/DSI Documents/cleaned_data/resampled_audio_16khz/255 -1.wav done.\n",
      "Saving C:\\Users\\bellcs1/Box/DSI Documents/cleaned_data/resampled_audio_16khz/264-2.wav done.\n"
     ]
    }
   ],
   "source": [
    "#actually do the resampling and saving\n",
    "#resamp_results = [resample_save(audio_file, sampling_rate, resampled_audio_base, verbose=True) for audio_file in audio_files_list]"
   ]
  },
  {
   "cell_type": "markdown",
   "id": "5705967c-90a6-4b08-8fdd-880f9c09da75",
   "metadata": {},
   "source": [
    "OK, things are looking good here and I've confirmed that the data is now saved on Box and seems to be able to be listened to correctly.  Note that normally, we would not leave long outputs such as these in the notebooks, but this one is left because of the warning raised in one of the conversions.  The problem is likely `088-1a`, so we should keep an eye on this."
   ]
  }
 ],
 "metadata": {
  "kernelspec": {
   "display_name": "Python 3 (ipykernel)",
   "language": "python",
   "name": "python3"
  }
 },
 "nbformat": 4,
 "nbformat_minor": 5
}
