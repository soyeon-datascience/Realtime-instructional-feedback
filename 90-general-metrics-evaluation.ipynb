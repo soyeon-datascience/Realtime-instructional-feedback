{
 "cells": [
  {
   "cell_type": "markdown",
   "id": "69638c18",
   "metadata": {},
   "source": [
    "# 90-general-metrics-evaluation\n",
    "> Code for streamlining generation of confusion matrix and metrics\n",
    "\n",
    "Here, we generate some functions to make sure that metrics can be computed easily and consistently across model runs."
   ]
  },
  {
   "cell_type": "code",
   "execution_count": null,
   "id": "0b5e7cb6",
   "metadata": {},
   "outputs": [],
   "source": [
    "#all_no_test\n",
    "#default_exp performance_metrics"
   ]
  },
  {
   "cell_type": "code",
   "execution_count": null,
   "id": "3ce02816",
   "metadata": {},
   "outputs": [],
   "source": [
    "#export\n",
    "#Data analysis and processing\n",
    "import pandas as pd\n",
    "\n",
    "#Plotting functions\n",
    "from sklearn.metrics import confusion_matrix, classification_report\n",
    "import seaborn as sns"
   ]
  },
  {
   "cell_type": "code",
   "execution_count": null,
   "id": "d9fbbc1f",
   "metadata": {},
   "outputs": [],
   "source": [
    "#Import Zeroshot Pipeline for Unit Test\n",
    "from transformers import pipeline"
   ]
  },
  {
   "cell_type": "markdown",
   "id": "170a4f8f",
   "metadata": {},
   "source": [
    "# Generalized function development\n",
    "Here, we develop two functions to help us with:\n",
    "* Converting zero shot results (list of dictionaries) to a dataframe\n",
    "* Pretty-printing a confusion matrix based on zero-shot results\n",
    "\n",
    "To see the original development of this code for more nuanced understanding of each line, explore the 60 notebook series at commit [8fc13e63a](https://github.com/vanderbilt-data-science/wise/commit/8fc13e63a88941eed87f4dab868108e6012019d2). "
   ]
  },
  {
   "cell_type": "code",
   "execution_count": null,
   "id": "e4ff7209",
   "metadata": {},
   "outputs": [],
   "source": [
    "#export\n",
    "def zsresults_to_df(csv_df, zeroshot_results, labels_rename):\n",
    "    '''\n",
    "    Function zsresults_to_df: Converts HF zero-shot pipeline outputs to a dataframe\n",
    "    Inputs: csv_df: pandas dataframe with continuous index and at least columns label and speech\n",
    "            zeroshot_results: output of HF zeroshot classification (list of dictionaries)\n",
    "            labels_rename: dictionary with keys corresponding to labels in the data and values corresponding\n",
    "                to zero-shot label \"nicknames\" (e.g., one element would be 'PRS':'praise')\n",
    "    Returns: a dataframe of the results, with new columns 'pred_zslabels' - pipeline predictions as \"nicknames\",\n",
    "            'pred' - pipeline predictions as the original data labels\n",
    "            'truth' - ground truth from csv_df\n",
    "            'sequence' - csv_df 'speech' column used for checking correctness of merge\n",
    "            columns corresponding to each \"nickname\" label filled with pipeline inference probabilities.\n",
    "            Each row is 1:1 with csv_df.\n",
    "    '''\n",
    "    \n",
    "    #Separate out the labels given in the data vs the zeroshot nicknames we gave them\n",
    "    data_labels, label_nicknames = [list(el) for el in zip(*labels_rename.items())]\n",
    "    nicknames_to_labels = dict(zip(label_nicknames, data_labels))\n",
    "    \n",
    "    #Parse through zeroshot_results to make a list of dataframes\n",
    "    results_df_list = [pd.DataFrame(result) for result in zeroshot_results]\n",
    "    \n",
    "    #Add back original indices to make sure concatenation works correctly\n",
    "    csv_df = csv_df.reset_index().rename(columns={'index':'sample_id'})\n",
    "    results_df_list = [df.assign(sample_id = ind) for ind, df in enumerate(results_df_list)]\n",
    "    \n",
    "    #Concatenate all dataframes the list into a single dataframe\n",
    "    results_df = pd.concat(results_df_list)\n",
    "    \n",
    "    #Pivot the column of labels and probabilities to be a single row per sample (long to wide)\n",
    "    results_df = results_df.pivot(index=['sample_id', 'sequence'], columns='labels', values='scores').reset_index(level='sequence')\n",
    "    results_df['pred_zslabels'] = results_df[label_nicknames].idxmax(axis=1)\n",
    "    \n",
    "    #Substitute zero-shot names with real (in the data) label names\n",
    "    results_df['pred'] = results_df['pred_zslabels'].replace(nicknames_to_labels)\n",
    "    \n",
    "    #Merge results table with original csv to get original labels\n",
    "    results_df = results_df.merge(csv_df[['sample_id', 'label', 'speech']], left_index=True, right_on='sample_id')\n",
    "    \n",
    "    #Fix label weirdness (remove unwanted spaces in labels)\n",
    "    results_df['label'] = results_df['label'].str.strip()\n",
    "    \n",
    "    #Specify the true label as \"truth\"\n",
    "    results_df = results_df.rename(columns={'label':'truth'})\n",
    "    \n",
    "    return results_df"
   ]
  },
  {
   "cell_type": "code",
   "execution_count": null,
   "id": "01858acb",
   "metadata": {},
   "outputs": [],
   "source": [
    "#export\n",
    "def get_performance_metrics(truth_vec, preds_vec, labels_rename, show_plots=False):\n",
    "    '''\n",
    "    Function get_performance_metrics: Returns performance metrics for classification\n",
    "    Inputs: truth_vec: pandas series or numpy array corresponding with ground truth \"data\" labels\n",
    "            preds_vec: pandas series or numpy array corresponding to the predicted \"data\" labels\n",
    "            labels_rename: dictionary of \"data labels\":nicknames (e.g., {'PRS':'praise'}) or\n",
    "                           list of true labels (e.g., ['PRS', 'REP'])\n",
    "            show_plots (default False): if True, shows pretty confusion matrix and classification report\n",
    "    Returns: dataframe of confusion matrix, dataframe of classification report\n",
    "    '''\n",
    "    \n",
    "    #determine type of labels_rename_lookup to determine action\n",
    "    #this allows us to use the same function for zero-shot classification and regular classification\n",
    "    if isinstance(labels_rename, list):\n",
    "        labels_rename = dict(zip(labels_rename, labels_rename))\n",
    "    \n",
    "    #get the different elements\n",
    "    data_labels, label_nicknames = [list(el) for el in zip(*labels_rename.items())]\n",
    "    \n",
    "    #Create confusion matrix using sklearn\n",
    "    c_ma = confusion_matrix(truth_vec, preds_vec, labels=data_labels)\n",
    "    \n",
    "    #Create confusion matrix as dataframe\n",
    "    c_df = pd.DataFrame(c_ma,\n",
    "                        columns = data_labels,\n",
    "                        index = data_labels)\n",
    "    c_df.rename(columns=labels_rename, index=labels_rename, inplace=True)\n",
    "    c_df.index.name = 'Actual Labels'\n",
    "    c_df.columns.name = 'Predicted Labels'\n",
    "    \n",
    "    #Get classification report as dataframe\n",
    "    perf_metrics = classification_report(truth_vec, preds_vec,\n",
    "                                         labels=data_labels, target_names = label_nicknames,\n",
    "                                         output_dict=True)\n",
    "    perf_metrics = pd.DataFrame(perf_metrics)\n",
    "    \n",
    "    #Show formatted confusion matrix\n",
    "    if show_plots:\n",
    "        print('Classification Report:')\n",
    "        ax = sns.heatmap(c_df, cmap='Blues', annot=True, fmt='d');\n",
    "        ax.set_xticklabels(ax.get_xticklabels(),rotation = 45);\n",
    "        ax.set_yticklabels(ax.get_yticklabels(),rotation = 45);\n",
    "        ax.set_title('Confusion Matrix')\n",
    "        print(classification_report(truth_vec, preds_vec, labels=data_labels, target_names = label_nicknames))\n",
    "    \n",
    "    return c_df, perf_metrics"
   ]
  },
  {
   "cell_type": "markdown",
   "id": "c11f3b59",
   "metadata": {},
   "source": [
    "# Unit test\n",
    "Let's just quickly make sure that this is working correctly. First, we'll make a fake dataframe with all of the relevant columns that we want."
   ]
  },
  {
   "cell_type": "code",
   "execution_count": null,
   "id": "2d6ed0c6",
   "metadata": {},
   "outputs": [
    {
     "data": {
      "text/html": [
       "<div>\n",
       "<style scoped>\n",
       "    .dataframe tbody tr th:only-of-type {\n",
       "        vertical-align: middle;\n",
       "    }\n",
       "\n",
       "    .dataframe tbody tr th {\n",
       "        vertical-align: top;\n",
       "    }\n",
       "\n",
       "    .dataframe thead th {\n",
       "        text-align: right;\n",
       "    }\n",
       "</style>\n",
       "<table border=\"1\" class=\"dataframe\">\n",
       "  <thead>\n",
       "    <tr style=\"text-align: right;\">\n",
       "      <th></th>\n",
       "      <th>label</th>\n",
       "      <th>speech</th>\n",
       "    </tr>\n",
       "  </thead>\n",
       "  <tbody>\n",
       "    <tr>\n",
       "      <th>0</th>\n",
       "      <td>NEU</td>\n",
       "      <td>The dog is super cute!</td>\n",
       "    </tr>\n",
       "    <tr>\n",
       "      <th>1</th>\n",
       "      <td>PRS</td>\n",
       "      <td>That was a great job that you did!</td>\n",
       "    </tr>\n",
       "    <tr>\n",
       "      <th>2</th>\n",
       "      <td>NEU</td>\n",
       "      <td>The universe exists.</td>\n",
       "    </tr>\n",
       "    <tr>\n",
       "      <th>3</th>\n",
       "      <td>REP</td>\n",
       "      <td>You should not be talking while the teacher is...</td>\n",
       "    </tr>\n",
       "    <tr>\n",
       "      <th>4</th>\n",
       "      <td>NEU</td>\n",
       "      <td>I have several cats and am now a cat lady.</td>\n",
       "    </tr>\n",
       "    <tr>\n",
       "      <th>5</th>\n",
       "      <td>OTR</td>\n",
       "      <td>What makes someone a cat lady?</td>\n",
       "    </tr>\n",
       "    <tr>\n",
       "      <th>6</th>\n",
       "      <td>NEU</td>\n",
       "      <td>This is a neutral statement.</td>\n",
       "    </tr>\n",
       "  </tbody>\n",
       "</table>\n",
       "</div>"
      ],
      "text/plain": [
       "  label                                             speech\n",
       "0   NEU                             The dog is super cute!\n",
       "1   PRS                 That was a great job that you did!\n",
       "2   NEU                               The universe exists.\n",
       "3   REP  You should not be talking while the teacher is...\n",
       "4   NEU         I have several cats and am now a cat lady.\n",
       "5   OTR                     What makes someone a cat lady?\n",
       "6   NEU                       This is a neutral statement."
      ]
     },
     "execution_count": null,
     "metadata": {},
     "output_type": "execute_result"
    }
   ],
   "source": [
    "sample_data = {'label':['NEU', 'PRS', 'NEU', 'REP', 'NEU', 'OTR', 'NEU'],\n",
    "               'speech': ['The dog is super cute!',\n",
    "                          'That was a great job that you did!',\n",
    "                          'The universe exists.',\n",
    "                          'You should not be talking while the teacher is talking.',\n",
    "                          'I have several cats and am now a cat lady.',\n",
    "                          'What makes someone a cat lady?',\n",
    "                          'This is a neutral statement.']}\n",
    "\n",
    "sample_data_df = pd.DataFrame(sample_data)\n",
    "sample_data_df"
   ]
  },
  {
   "cell_type": "markdown",
   "id": "70e9afad",
   "metadata": {},
   "source": [
    "Let's pass this through the pipeline to get the results."
   ]
  },
  {
   "cell_type": "code",
   "execution_count": null,
   "id": "c7626156",
   "metadata": {},
   "outputs": [
    {
     "name": "stderr",
     "output_type": "stream",
     "text": [
      "No model was supplied, defaulted to facebook/bart-large-mnli (https://huggingface.co/facebook/bart-large-mnli)\n"
     ]
    }
   ],
   "source": [
    "# these are the labels that were added to the transcripts (don't change these or the order)\n",
    "sample_transc_labels = ['PRS', 'REP', 'NEU', 'OTR']\n",
    "\n",
    "# define list of candidate labels (change these, but not the order)\n",
    "sample_cand_labels = [\"praise\", \"reprimand\", \"neutral\", \"opportunity to respond\"]\n",
    "\n",
    "# create labels lookup\n",
    "label_nicknames = dict(zip(sample_transc_labels, sample_cand_labels))\n",
    "\n",
    "#create pipeline\n",
    "mdl = pipeline('zero-shot-classification', device=0)"
   ]
  },
  {
   "cell_type": "code",
   "execution_count": null,
   "id": "71934984",
   "metadata": {},
   "outputs": [
    {
     "data": {
      "text/plain": [
       "[{'sequence': 'The dog is super cute!',\n",
       "  'labels': ['praise', 'opportunity to respond', 'neutral', 'reprimand'],\n",
       "  'scores': [0.550895094871521,\n",
       "   0.39965060353279114,\n",
       "   0.03062676638364792,\n",
       "   0.01882755383849144]},\n",
       " {'sequence': 'That was a great job that you did!',\n",
       "  'labels': ['praise', 'opportunity to respond', 'neutral', 'reprimand'],\n",
       "  'scores': [0.890011727809906,\n",
       "   0.09518249332904816,\n",
       "   0.010142513550817966,\n",
       "   0.004663258790969849]}]"
      ]
     },
     "execution_count": null,
     "metadata": {},
     "output_type": "execute_result"
    }
   ],
   "source": [
    "# get the sample results\n",
    "sample_results_list = mdl(sequences = sample_data_df['speech'].tolist(),\n",
    "                                 candidate_labels = sample_cand_labels)\n",
    "sample_results_list[:2]"
   ]
  },
  {
   "cell_type": "markdown",
   "id": "9cf7a2fe",
   "metadata": {},
   "source": [
    "Great! This gives us the same results structure that we saw in the zero shot classification notebooks. Let's check how our functions work:"
   ]
  },
  {
   "cell_type": "code",
   "execution_count": null,
   "id": "7432467c",
   "metadata": {},
   "outputs": [
    {
     "data": {
      "text/html": [
       "<div>\n",
       "<style scoped>\n",
       "    .dataframe tbody tr th:only-of-type {\n",
       "        vertical-align: middle;\n",
       "    }\n",
       "\n",
       "    .dataframe tbody tr th {\n",
       "        vertical-align: top;\n",
       "    }\n",
       "\n",
       "    .dataframe thead th {\n",
       "        text-align: right;\n",
       "    }\n",
       "</style>\n",
       "<table border=\"1\" class=\"dataframe\">\n",
       "  <thead>\n",
       "    <tr style=\"text-align: right;\">\n",
       "      <th></th>\n",
       "      <th>sequence</th>\n",
       "      <th>neutral</th>\n",
       "      <th>opportunity to respond</th>\n",
       "      <th>praise</th>\n",
       "      <th>reprimand</th>\n",
       "      <th>pred_zslabels</th>\n",
       "      <th>pred</th>\n",
       "      <th>sample_id</th>\n",
       "      <th>truth</th>\n",
       "      <th>speech</th>\n",
       "    </tr>\n",
       "  </thead>\n",
       "  <tbody>\n",
       "    <tr>\n",
       "      <th>0</th>\n",
       "      <td>The dog is super cute!</td>\n",
       "      <td>0.030627</td>\n",
       "      <td>0.399651</td>\n",
       "      <td>0.550895</td>\n",
       "      <td>0.018828</td>\n",
       "      <td>praise</td>\n",
       "      <td>PRS</td>\n",
       "      <td>0</td>\n",
       "      <td>NEU</td>\n",
       "      <td>The dog is super cute!</td>\n",
       "    </tr>\n",
       "    <tr>\n",
       "      <th>1</th>\n",
       "      <td>That was a great job that you did!</td>\n",
       "      <td>0.010143</td>\n",
       "      <td>0.095182</td>\n",
       "      <td>0.890012</td>\n",
       "      <td>0.004663</td>\n",
       "      <td>praise</td>\n",
       "      <td>PRS</td>\n",
       "      <td>1</td>\n",
       "      <td>PRS</td>\n",
       "      <td>That was a great job that you did!</td>\n",
       "    </tr>\n",
       "    <tr>\n",
       "      <th>2</th>\n",
       "      <td>The universe exists.</td>\n",
       "      <td>0.146163</td>\n",
       "      <td>0.590716</td>\n",
       "      <td>0.138042</td>\n",
       "      <td>0.125080</td>\n",
       "      <td>opportunity to respond</td>\n",
       "      <td>OTR</td>\n",
       "      <td>2</td>\n",
       "      <td>NEU</td>\n",
       "      <td>The universe exists.</td>\n",
       "    </tr>\n",
       "    <tr>\n",
       "      <th>3</th>\n",
       "      <td>You should not be talking while the teacher is...</td>\n",
       "      <td>0.041001</td>\n",
       "      <td>0.054501</td>\n",
       "      <td>0.015899</td>\n",
       "      <td>0.888599</td>\n",
       "      <td>reprimand</td>\n",
       "      <td>REP</td>\n",
       "      <td>3</td>\n",
       "      <td>REP</td>\n",
       "      <td>You should not be talking while the teacher is...</td>\n",
       "    </tr>\n",
       "    <tr>\n",
       "      <th>4</th>\n",
       "      <td>I have several cats and am now a cat lady.</td>\n",
       "      <td>0.087741</td>\n",
       "      <td>0.632462</td>\n",
       "      <td>0.175376</td>\n",
       "      <td>0.104421</td>\n",
       "      <td>opportunity to respond</td>\n",
       "      <td>OTR</td>\n",
       "      <td>4</td>\n",
       "      <td>NEU</td>\n",
       "      <td>I have several cats and am now a cat lady.</td>\n",
       "    </tr>\n",
       "    <tr>\n",
       "      <th>5</th>\n",
       "      <td>What makes someone a cat lady?</td>\n",
       "      <td>0.023465</td>\n",
       "      <td>0.929640</td>\n",
       "      <td>0.033988</td>\n",
       "      <td>0.012907</td>\n",
       "      <td>opportunity to respond</td>\n",
       "      <td>OTR</td>\n",
       "      <td>5</td>\n",
       "      <td>OTR</td>\n",
       "      <td>What makes someone a cat lady?</td>\n",
       "    </tr>\n",
       "    <tr>\n",
       "      <th>6</th>\n",
       "      <td>This is a neutral statement.</td>\n",
       "      <td>0.975052</td>\n",
       "      <td>0.020956</td>\n",
       "      <td>0.002128</td>\n",
       "      <td>0.001864</td>\n",
       "      <td>neutral</td>\n",
       "      <td>NEU</td>\n",
       "      <td>6</td>\n",
       "      <td>NEU</td>\n",
       "      <td>This is a neutral statement.</td>\n",
       "    </tr>\n",
       "  </tbody>\n",
       "</table>\n",
       "</div>"
      ],
      "text/plain": [
       "                                            sequence   neutral  \\\n",
       "0                             The dog is super cute!  0.030627   \n",
       "1                 That was a great job that you did!  0.010143   \n",
       "2                               The universe exists.  0.146163   \n",
       "3  You should not be talking while the teacher is...  0.041001   \n",
       "4         I have several cats and am now a cat lady.  0.087741   \n",
       "5                     What makes someone a cat lady?  0.023465   \n",
       "6                       This is a neutral statement.  0.975052   \n",
       "\n",
       "   opportunity to respond    praise  reprimand           pred_zslabels pred  \\\n",
       "0                0.399651  0.550895   0.018828                  praise  PRS   \n",
       "1                0.095182  0.890012   0.004663                  praise  PRS   \n",
       "2                0.590716  0.138042   0.125080  opportunity to respond  OTR   \n",
       "3                0.054501  0.015899   0.888599               reprimand  REP   \n",
       "4                0.632462  0.175376   0.104421  opportunity to respond  OTR   \n",
       "5                0.929640  0.033988   0.012907  opportunity to respond  OTR   \n",
       "6                0.020956  0.002128   0.001864                 neutral  NEU   \n",
       "\n",
       "   sample_id truth                                             speech  \n",
       "0          0   NEU                             The dog is super cute!  \n",
       "1          1   PRS                 That was a great job that you did!  \n",
       "2          2   NEU                               The universe exists.  \n",
       "3          3   REP  You should not be talking while the teacher is...  \n",
       "4          4   NEU         I have several cats and am now a cat lady.  \n",
       "5          5   OTR                     What makes someone a cat lady?  \n",
       "6          6   NEU                       This is a neutral statement.  "
      ]
     },
     "execution_count": null,
     "metadata": {},
     "output_type": "execute_result"
    }
   ],
   "source": [
    "# Test zsresults_to_df\n",
    "sample_results_df = zsresults_to_df(sample_data_df, sample_results_list, label_nicknames)\n",
    "\n",
    "# Look at the resultant df\n",
    "sample_results_df"
   ]
  },
  {
   "cell_type": "markdown",
   "id": "d54c8e5d",
   "metadata": {},
   "source": [
    "Fantastic. That gives us the dataframe we expect. Let's make sure that the confusion matrix and metrics are returned to us correctly when suppressing plotting and we use a list input..."
   ]
  },
  {
   "cell_type": "code",
   "execution_count": null,
   "id": "90d3e174",
   "metadata": {},
   "outputs": [
    {
     "data": {
      "text/plain": [
       "(Predicted Labels  PRS  REP  NEU  OTR\n",
       " Actual Labels                       \n",
       " PRS                 1    0    0    0\n",
       " REP                 0    1    0    0\n",
       " NEU                 1    0    1    2\n",
       " OTR                 0    0    0    1,\n",
       "                 PRS  REP   NEU       OTR  accuracy  macro avg  weighted avg\n",
       " precision  0.500000  1.0  1.00  0.333333  0.571429   0.708333      0.833333\n",
       " recall     1.000000  1.0  0.25  1.000000  0.571429   0.812500      0.571429\n",
       " f1-score   0.666667  1.0  0.40  0.500000  0.571429   0.641667      0.538095\n",
       " support    1.000000  1.0  4.00  1.000000  0.571429   7.000000      7.000000)"
      ]
     },
     "execution_count": null,
     "metadata": {},
     "output_type": "execute_result"
    }
   ],
   "source": [
    "get_performance_metrics(sample_results_df['truth'], sample_results_df['pred'], sample_transc_labels, show_plots=False)"
   ]
  },
  {
   "cell_type": "markdown",
   "id": "f61df797",
   "metadata": {},
   "source": [
    "Let's see what happens if we don't suppress plotting, use the renaming (dictionary) input and store the output..."
   ]
  },
  {
   "cell_type": "code",
   "execution_count": null,
   "id": "5612e8fe",
   "metadata": {},
   "outputs": [
    {
     "name": "stdout",
     "output_type": "stream",
     "text": [
      "Classification Report:\n",
      "                        precision    recall  f1-score   support\n",
      "\n",
      "                praise       0.50      1.00      0.67         1\n",
      "             reprimand       1.00      1.00      1.00         1\n",
      "               neutral       1.00      0.25      0.40         4\n",
      "opportunity to respond       0.33      1.00      0.50         1\n",
      "\n",
      "              accuracy                           0.57         7\n",
      "             macro avg       0.71      0.81      0.64         7\n",
      "          weighted avg       0.83      0.57      0.54         7\n",
      "\n"
     ]
    },
    {
     "data": {
      "image/png": "[encoded data removed]",
      "text/plain": [
       "<Figure size 432x288 with 2 Axes>"
      ]
     },
     "metadata": {
      "needs_background": "light"
     },
     "output_type": "display_data"
    }
   ],
   "source": [
    "sample_c_df, sample_class_report = get_performance_metrics(sample_results_df['truth'], sample_results_df['pred'],\n",
    "                                                           label_nicknames, show_plots=True)"
   ]
  },
  {
   "cell_type": "markdown",
   "id": "7881eed1",
   "metadata": {},
   "source": [
    "Let's see the contents of the resultant variables..."
   ]
  },
  {
   "cell_type": "code",
   "execution_count": null,
   "id": "ec456bf1",
   "metadata": {},
   "outputs": [
    {
     "data": {
      "text/html": [
       "<div>\n",
       "<style scoped>\n",
       "    .dataframe tbody tr th:only-of-type {\n",
       "        vertical-align: middle;\n",
       "    }\n",
       "\n",
       "    .dataframe tbody tr th {\n",
       "        vertical-align: top;\n",
       "    }\n",
       "\n",
       "    .dataframe thead th {\n",
       "        text-align: right;\n",
       "    }\n",
       "</style>\n",
       "<table border=\"1\" class=\"dataframe\">\n",
       "  <thead>\n",
       "    <tr style=\"text-align: right;\">\n",
       "      <th>Predicted Labels</th>\n",
       "      <th>praise</th>\n",
       "      <th>reprimand</th>\n",
       "      <th>neutral</th>\n",
       "      <th>opportunity to respond</th>\n",
       "    </tr>\n",
       "    <tr>\n",
       "      <th>Actual Labels</th>\n",
       "      <th></th>\n",
       "      <th></th>\n",
       "      <th></th>\n",
       "      <th></th>\n",
       "    </tr>\n",
       "  </thead>\n",
       "  <tbody>\n",
       "    <tr>\n",
       "      <th>praise</th>\n",
       "      <td>1</td>\n",
       "      <td>0</td>\n",
       "      <td>0</td>\n",
       "      <td>0</td>\n",
       "    </tr>\n",
       "    <tr>\n",
       "      <th>reprimand</th>\n",
       "      <td>0</td>\n",
       "      <td>1</td>\n",
       "      <td>0</td>\n",
       "      <td>0</td>\n",
       "    </tr>\n",
       "    <tr>\n",
       "      <th>neutral</th>\n",
       "      <td>1</td>\n",
       "      <td>0</td>\n",
       "      <td>1</td>\n",
       "      <td>2</td>\n",
       "    </tr>\n",
       "    <tr>\n",
       "      <th>opportunity to respond</th>\n",
       "      <td>0</td>\n",
       "      <td>0</td>\n",
       "      <td>0</td>\n",
       "      <td>1</td>\n",
       "    </tr>\n",
       "  </tbody>\n",
       "</table>\n",
       "</div>"
      ],
      "text/plain": [
       "Predicted Labels        praise  reprimand  neutral  opportunity to respond\n",
       "Actual Labels                                                             \n",
       "praise                       1          0        0                       0\n",
       "reprimand                    0          1        0                       0\n",
       "neutral                      1          0        1                       2\n",
       "opportunity to respond       0          0        0                       1"
      ]
     },
     "execution_count": null,
     "metadata": {},
     "output_type": "execute_result"
    }
   ],
   "source": [
    "sample_c_df"
   ]
  },
  {
   "cell_type": "code",
   "execution_count": null,
   "id": "9a79772b",
   "metadata": {},
   "outputs": [
    {
     "data": {
      "text/html": [
       "<div>\n",
       "<style scoped>\n",
       "    .dataframe tbody tr th:only-of-type {\n",
       "        vertical-align: middle;\n",
       "    }\n",
       "\n",
       "    .dataframe tbody tr th {\n",
       "        vertical-align: top;\n",
       "    }\n",
       "\n",
       "    .dataframe thead th {\n",
       "        text-align: right;\n",
       "    }\n",
       "</style>\n",
       "<table border=\"1\" class=\"dataframe\">\n",
       "  <thead>\n",
       "    <tr style=\"text-align: right;\">\n",
       "      <th></th>\n",
       "      <th>praise</th>\n",
       "      <th>reprimand</th>\n",
       "      <th>neutral</th>\n",
       "      <th>opportunity to respond</th>\n",
       "      <th>accuracy</th>\n",
       "      <th>macro avg</th>\n",
       "      <th>weighted avg</th>\n",
       "    </tr>\n",
       "  </thead>\n",
       "  <tbody>\n",
       "    <tr>\n",
       "      <th>precision</th>\n",
       "      <td>0.500000</td>\n",
       "      <td>1.0</td>\n",
       "      <td>1.00</td>\n",
       "      <td>0.333333</td>\n",
       "      <td>0.571429</td>\n",
       "      <td>0.708333</td>\n",
       "      <td>0.833333</td>\n",
       "    </tr>\n",
       "    <tr>\n",
       "      <th>recall</th>\n",
       "      <td>1.000000</td>\n",
       "      <td>1.0</td>\n",
       "      <td>0.25</td>\n",
       "      <td>1.000000</td>\n",
       "      <td>0.571429</td>\n",
       "      <td>0.812500</td>\n",
       "      <td>0.571429</td>\n",
       "    </tr>\n",
       "    <tr>\n",
       "      <th>f1-score</th>\n",
       "      <td>0.666667</td>\n",
       "      <td>1.0</td>\n",
       "      <td>0.40</td>\n",
       "      <td>0.500000</td>\n",
       "      <td>0.571429</td>\n",
       "      <td>0.641667</td>\n",
       "      <td>0.538095</td>\n",
       "    </tr>\n",
       "    <tr>\n",
       "      <th>support</th>\n",
       "      <td>1.000000</td>\n",
       "      <td>1.0</td>\n",
       "      <td>4.00</td>\n",
       "      <td>1.000000</td>\n",
       "      <td>0.571429</td>\n",
       "      <td>7.000000</td>\n",
       "      <td>7.000000</td>\n",
       "    </tr>\n",
       "  </tbody>\n",
       "</table>\n",
       "</div>"
      ],
      "text/plain": [
       "             praise  reprimand  neutral  opportunity to respond  accuracy  \\\n",
       "precision  0.500000        1.0     1.00                0.333333  0.571429   \n",
       "recall     1.000000        1.0     0.25                1.000000  0.571429   \n",
       "f1-score   0.666667        1.0     0.40                0.500000  0.571429   \n",
       "support    1.000000        1.0     4.00                1.000000  0.571429   \n",
       "\n",
       "           macro avg  weighted avg  \n",
       "precision   0.708333      0.833333  \n",
       "recall      0.812500      0.571429  \n",
       "f1-score    0.641667      0.538095  \n",
       "support     7.000000      7.000000  "
      ]
     },
     "execution_count": null,
     "metadata": {},
     "output_type": "execute_result"
    }
   ],
   "source": [
    "sample_class_report"
   ]
  },
  {
   "cell_type": "markdown",
   "id": "86e029f8",
   "metadata": {},
   "source": [
    "Fantastic!  Looks like everything is working as expected!"
   ]
  },
  {
   "cell_type": "markdown",
   "id": "62fb1f2d",
   "metadata": {},
   "source": [
    "---\n",
    "# A brief aside on a code trick above...\n",
    "The functions above use a `zip` trick which is new to this notebook (beyond the 60 series) so explained here.\n",
    "\n",
    "For simplicity in the following functions, we pass in a dictionary of the labels with anything we want to rename the labels with, e.g., \n",
    "```\n",
    "label_nicknames = {'PRS': 'praise',\n",
    "                   'REP': 'reprimand',\n",
    "                   'NEU': 'neutral',\n",
    "                   'OTR': 'opportunity to respond'}\n",
    "```\n",
    "The keys of the dictionary are the real labels (data labels), and the values are the \"nicknames\" we want to give them, or what we use as \"candidate labels\" in zero-shot classification. We can get a list of data labels (keys) and nicknames (values) as individual lists as seen below."
   ]
  },
  {
   "cell_type": "markdown",
   "id": "90ce895b",
   "metadata": {},
   "source": [
    "The `items()` method gives us key-value pairs, and the `*` with `zip` performs element-wise aggregation across all inputs. It the items below, it takes the first element of the 4 pairs and puts them into a list, and takes the second element of the 4 pairs and puts them into a list."
   ]
  },
  {
   "cell_type": "code",
   "execution_count": null,
   "id": "0aeed908",
   "metadata": {},
   "outputs": [
    {
     "data": {
      "text/plain": [
       "dict_items([('PRS', 'praise'), ('REP', 'reprimand'), ('NEU', 'neutral'), ('OTR', 'opportunity to respond')])"
      ]
     },
     "execution_count": null,
     "metadata": {},
     "output_type": "execute_result"
    }
   ],
   "source": [
    "label_nicknames.items()"
   ]
  },
  {
   "cell_type": "code",
   "execution_count": null,
   "id": "8d601bda",
   "metadata": {},
   "outputs": [
    {
     "data": {
      "text/plain": [
       "[('PRS', 'REP', 'NEU', 'OTR'),\n",
       " ('praise', 'reprimand', 'neutral', 'opportunity to respond')]"
      ]
     },
     "execution_count": null,
     "metadata": {},
     "output_type": "execute_result"
    }
   ],
   "source": [
    "list(zip(*label_nicknames.items()))"
   ]
  },
  {
   "cell_type": "markdown",
   "id": "1300415a",
   "metadata": {},
   "source": [
    "We use the list comprehension to convert each element from a tuple to a list.  Note that we don't use the simple \n",
    "```\n",
    "list(dict(zip(*labels_lookup.items())))\n",
    "```\n",
    "syntax because this will return tuples.  We need lists because we use them as individual column selectors with pandas. If we left them as tuples, pandas would interpret this as a multiindex (essentially subcategories of each other) rather than individual columns."
   ]
  },
  {
   "cell_type": "code",
   "execution_count": null,
   "id": "62ff8536",
   "metadata": {},
   "outputs": [
    {
     "name": "stdout",
     "output_type": "stream",
     "text": [
      "['PRS', 'REP', 'NEU', 'OTR']\n"
     ]
    },
    {
     "data": {
      "text/plain": [
       "['praise', 'reprimand', 'neutral', 'opportunity to respond']"
      ]
     },
     "execution_count": null,
     "metadata": {},
     "output_type": "execute_result"
    }
   ],
   "source": [
    "dog, cat = [list(a) for a in zip(*label_nicknames.items())]\n",
    "print(dog)\n",
    "cat"
   ]
  }
 ],
 "metadata": {
  "kernelspec": {
   "display_name": "Python 3 (ipykernel)",
   "language": "python",
   "name": "python3"
  }
 },
 "nbformat": 4,
 "nbformat_minor": 5
}
