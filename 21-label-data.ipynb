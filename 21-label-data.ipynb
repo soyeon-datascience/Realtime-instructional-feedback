{
 "cells": [
  {
   "cell_type": "markdown",
   "id": "6aac2c41",
   "metadata": {},
   "source": [
    "# 21-label-data\n",
    "> Gathering a total count of the labels in the data set.\n",
    "\n",
    "Measuring and ploting total data counts can help us better understand the distribution of labels."
   ]
  },
  {
   "cell_type": "code",
   "execution_count": null,
   "id": "7ac6fc39",
   "metadata": {},
   "outputs": [],
   "source": [
    "#all_no_test\n",
    "#Data processing and evaluation\n",
    "import pandas as pd\n",
    "import os.path\n",
    "import glob as glob\n",
    "import matplotlib.pyplot as plt"
   ]
  },
  {
   "cell_type": "markdown",
   "id": "11f4e966",
   "metadata": {},
   "source": [
    "## Retrieve data from final_csv.csv\n",
    "We focus on retrieving the data fraom here since all of the csv versions of the transcripts are concatenated into this one large dataframe.  We can work directly with it and it will provide us all the information required about the dataset."
   ]
  },
  {
   "cell_type": "code",
   "execution_count": null,
   "id": "99fdafec",
   "metadata": {},
   "outputs": [],
   "source": [
    "#set path to get cleaned CSV files\n",
    "base_prefix = '/data/p_dsi/wise/data/'\n",
    "path = os.path.expanduser(base_prefix + 'cleaned_data')\n",
    "\n",
    "#creates list with all csv files\n",
    "df_file = path + \"/final_csv.csv\""
   ]
  },
  {
   "cell_type": "markdown",
   "id": "f9fb51b1",
   "metadata": {},
   "source": [
    "## Generate label count"
   ]
  },
  {
   "cell_type": "code",
   "execution_count": null,
   "id": "70e44cb6",
   "metadata": {},
   "outputs": [
    {
     "data": {
      "text/plain": [
       "NEU    8090\n",
       "OTR    3690\n",
       "PRS    1715\n",
       "REP     513\n",
       "Name: label, dtype: int64"
      ]
     },
     "metadata": {},
     "output_type": "display_data"
    }
   ],
   "source": [
    "#read the second CSV file in the list to ensure it is the final_csv.csv\n",
    "df = pd.read_csv(df_file)\n",
    "\n",
    "#remove the spaces before and after the label to make them the same\n",
    "df['label'] = df['label'].str.strip()\n",
    "\n",
    "#count all of the ocurrances of each label\n",
    "total = df['label'].value_counts()\n",
    "\n",
    "#remove accidental 'NUE' and add it to 'NEU' count\n",
    "total['NEU'] = total['NUE'] + total['NEU']\n",
    "\n",
    "#remove NUE from dataframe\n",
    "total = total.drop(labels = ['NUE'])\n",
    "\n",
    "#display total\n",
    "display(total)"
   ]
  },
  {
   "cell_type": "markdown",
   "id": "dc04c95c",
   "metadata": {},
   "source": [
    "## Plot data"
   ]
  },
  {
   "cell_type": "code",
   "execution_count": null,
   "id": "c8f49208",
   "metadata": {},
   "outputs": [
    {
     "data": {
      "text/plain": [
       "NEU    8090\n",
       "OTR    3690\n",
       "PRS    1715\n",
       "REP     513\n",
       "Name: label, dtype: int64"
      ]
     },
     "metadata": {},
     "output_type": "display_data"
    },
    {
     "data": {
      "image/png": "[encoded data removed]",
      "text/plain": [
       "<Figure size 432x288 with 1 Axes>"
      ]
     },
     "metadata": {
      "needs_background": "light"
     },
     "output_type": "display_data"
    }
   ],
   "source": [
    "#making the plot\n",
    "ax = total.plot(kind = 'bar',\n",
    "                title='Distribution of labels in full dataset',\n",
    "                xlabel= 'Label',\n",
    "                ylabel = 'Total Counts')\n",
    "ax.bar_label(ax.containers[0])\n",
    "\n",
    "#show totals\n",
    "display(total)"
   ]
  },
  {
   "cell_type": "markdown",
   "id": "713739f6",
   "metadata": {},
   "source": [
    "We can see here that as expected, the neutral label dominates the dataset, and in fact comprises more than twice the entire size of the dataset.  Most teachers otherwise give twice as many opportunities to respond as praise, and almost 3x as much praise as reprimands within this dataset."
   ]
  }
 ],
 "metadata": {
  "kernelspec": {
   "display_name": "Python 3 (ipykernel)",
   "language": "python",
   "name": "python3"
  }
 },
 "nbformat": 4,
 "nbformat_minor": 5
}
